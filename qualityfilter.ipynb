{
 "cells": [
  {
   "cell_type": "code",
   "execution_count": 2,
   "id": "810249d5",
   "metadata": {},
   "outputs": [
    {
     "name": "stdout",
     "output_type": "stream",
     "text": [
      "Defaulting to user installation because normal site-packages is not writeable\n",
      "Collecting https://github.com/kpu/kenlm/archive/master.zip\n",
      "  Using cached https://github.com/kpu/kenlm/archive/master.zip\n",
      "  Installing build dependencies ... \u001b[?25ldone\n",
      "\u001b[?25h  Getting requirements to build wheel ... \u001b[?25ldone\n",
      "\u001b[?25h  Preparing metadata (pyproject.toml) ... \u001b[?25ldone\n",
      "\u001b[?25hNote: you may need to restart the kernel to use updated packages.\n"
     ]
    }
   ],
   "source": [
    "pip install https://github.com/kpu/kenlm/archive/master.zip\n"
   ]
  },
  {
   "cell_type": "code",
   "execution_count": 1,
   "id": "46b2602b",
   "metadata": {},
   "outputs": [
    {
     "name": "stdout",
     "output_type": "stream",
     "text": [
      "Loading KenLM model...\n"
     ]
    },
    {
     "name": "stderr",
     "output_type": "stream",
     "text": [
      " 50%|█████     | 1/2 [00:32<00:32, 32.70s/it]"
     ]
    },
    {
     "name": "stdout",
     "output_type": "stream",
     "text": [
      "shard_006.en.jsonl: Head ≤ 1313695.17, Tail ≥ 3108977.99\n"
     ]
    },
    {
     "name": "stderr",
     "output_type": "stream",
     "text": [
      "100%|██████████| 2/2 [01:03<00:00, 31.87s/it]"
     ]
    },
    {
     "name": "stdout",
     "output_type": "stream",
     "text": [
      "shard_007.en.jsonl: Head ≤ 1316810.44, Tail ≥ 3113513.43\n"
     ]
    },
    {
     "name": "stderr",
     "output_type": "stream",
     "text": [
      "\n"
     ]
    }
   ],
   "source": [
    "import os\n",
    "import json\n",
    "import kenlm\n",
    "import numpy as np\n",
    "from tqdm import tqdm\n",
    "\n",
    "# Config\n",
    "INPUT_DIR = os.path.expanduser(\"/home/blu-bridge004/Desktop/pytorch/rupeshlangfil06_07\")\n",
    "OUTPUT_DIR = os.path.expanduser(\"/home/blu-bridge004/Desktop/pytorch/rupeshqualfilter06_07\")\n",
    "LM_PATH = \"/home/blu-bridge004/Desktop/pytorch/wiki.arpa.bin\"  # your KenLM bin file\n",
    "\n",
    "os.makedirs(OUTPUT_DIR, exist_ok=True)\n",
    "\n",
    "# Load language model\n",
    "print(\"Loading KenLM model...\")\n",
    "model = kenlm.Model(LM_PATH)\n",
    "\n",
    "def compute_perplexity(text):\n",
    "    return 10.0 ** (-model.score(text.replace(\"\\n\", \" \").strip()) / max(1, len(text.split())))\n",
    "\n",
    "# Process each shard\n",
    "for filename in tqdm(sorted(os.listdir(INPUT_DIR))):\n",
    "    if not filename.endswith(\".jsonl\"):\n",
    "        continue\n",
    "\n",
    "    input_path = os.path.join(INPUT_DIR, filename)\n",
    "    \n",
    "    docs = []\n",
    "    perplexities = []\n",
    "\n",
    "    # Pass 1: collect perplexities\n",
    "    with open(input_path, \"r\", encoding=\"utf-8\") as f:\n",
    "        for line in f:\n",
    "            data = json.loads(line)\n",
    "            text = data.get(\"text\", \"\")\n",
    "            ppl = compute_perplexity(text)\n",
    "            docs.append((data, ppl))\n",
    "            perplexities.append(ppl)\n",
    "\n",
    "    # Compute thresholds\n",
    "    perplexities = np.array(perplexities)\n",
    "    head_thresh = np.percentile(perplexities, 10)\n",
    "    tail_thresh = np.percentile(perplexities, 50)\n",
    "\n",
    "    # Output files\n",
    "    base = filename.replace(\".jsonl\", \"\")\n",
    "    head_out = open(os.path.join(OUTPUT_DIR, f\"{base}_head.jsonl\"), \"w\", encoding=\"utf-8\")\n",
    "    middle_out = open(os.path.join(OUTPUT_DIR, f\"{base}_middle.jsonl\"), \"w\", encoding=\"utf-8\")\n",
    "    tail_out = open(os.path.join(OUTPUT_DIR, f\"{base}_tail.jsonl\"), \"w\", encoding=\"utf-8\")\n",
    "\n",
    "    # Pass 2: write categorized output\n",
    "    for data, ppl in docs:\n",
    "        if ppl <= head_thresh:\n",
    "            head_out.write(json.dumps(data, ensure_ascii=False) + \"\\n\")\n",
    "        elif ppl >= tail_thresh:\n",
    "            tail_out.write(json.dumps(data, ensure_ascii=False) + \"\\n\")\n",
    "        else:\n",
    "            middle_out.write(json.dumps(data, ensure_ascii=False) + \"\\n\")\n",
    "\n",
    "    head_out.close()\n",
    "    middle_out.close()\n",
    "    tail_out.close()\n",
    "\n",
    "    print(f\"{filename}: Head ≤ {head_thresh:.2f}, Tail ≥ {tail_thresh:.2f}\")\n"
   ]
  },
  {
   "cell_type": "code",
   "execution_count": 5,
   "id": "25076352",
   "metadata": {},
   "outputs": [],
   "source": [
    "import kenlm\n",
    "model=kenlm.Model(\"/home/blu-bridge004/Desktop/pytorch/wiki.arpa.bin\")"
   ]
  },
  {
   "cell_type": "code",
   "execution_count": 6,
   "id": "6bba2991",
   "metadata": {},
   "outputs": [
    {
     "data": {
      "text/plain": [
       "-11.460987091064453"
      ]
     },
     "execution_count": 6,
     "metadata": {},
     "output_type": "execute_result"
    }
   ],
   "source": [
    "model.score(\"hello\")"
   ]
  }
 ],
 "metadata": {
  "kernelspec": {
   "display_name": "Python 3",
   "language": "python",
   "name": "python3"
  },
  "language_info": {
   "codemirror_mode": {
    "name": "ipython",
    "version": 3
   },
   "file_extension": ".py",
   "mimetype": "text/x-python",
   "name": "python",
   "nbconvert_exporter": "python",
   "pygments_lexer": "ipython3",
   "version": "3.10.12"
  }
 },
 "nbformat": 4,
 "nbformat_minor": 5
}
