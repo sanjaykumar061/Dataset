{
 "cells": [
  {
   "cell_type": "code",
   "execution_count": 4,
   "id": "94a38b04",
   "metadata": {},
   "outputs": [
    {
     "name": "stdout",
     "output_type": "stream",
     "text": [
      "\n",
      "Usage:   \n",
      "  /bin/python3 -m pip install [options] <requirement specifier> [package-index-options] ...\n",
      "  /bin/python3 -m pip install [options] -r <requirements file> [package-index-options] ...\n",
      "  /bin/python3 -m pip install [options] [-e] <vcs project url> ...\n",
      "  /bin/python3 -m pip install [options] [-e] <local project path> ...\n",
      "  /bin/python3 -m pip install [options] <archive url/path> ...\n",
      "\n",
      "no such option: -w\n",
      "Note: you may need to restart the kernel to use updated packages.\n"
     ]
    }
   ],
   "source": [
    "pip install fastext -wheel"
   ]
  },
  {
   "cell_type": "code",
   "execution_count": 11,
   "id": "8bf44c7e",
   "metadata": {},
   "outputs": [
    {
     "name": "stdout",
     "output_type": "stream",
     "text": [
      "Defaulting to user installation because normal site-packages is not writeable\n",
      "Collecting numpy==1.26.4\n",
      "  Downloading numpy-1.26.4-cp310-cp310-manylinux_2_17_x86_64.manylinux2014_x86_64.whl (18.2 MB)\n",
      "\u001b[2K     \u001b[90m━━━━━━━━━━━━━━━━━━━━━━━━━━━━━━━━━━━━━━━━\u001b[0m \u001b[32m18.2/18.2 MB\u001b[0m \u001b[31m49.8 MB/s\u001b[0m eta \u001b[36m0:00:00\u001b[0m00:01\u001b[0m00:01\u001b[0m\n",
      "\u001b[?25hInstalling collected packages: numpy\n",
      "  Attempting uninstall: numpy\n",
      "    Found existing installation: numpy 2.1.3\n",
      "    Uninstalling numpy-2.1.3:\n",
      "      Successfully uninstalled numpy-2.1.3\n",
      "\u001b[31mERROR: pip's dependency resolver does not currently take into account all the packages that are installed. This behaviour is the source of the following dependency conflicts.\n",
      "datatrove 0.4.0 requires numpy>=2.0.0, but you have numpy 1.26.4 which is incompatible.\u001b[0m\u001b[31m\n",
      "\u001b[0mSuccessfully installed numpy-1.26.4\n",
      "Note: you may need to restart the kernel to use updated packages.\n"
     ]
    }
   ],
   "source": [
    "pip install numpy==1.26.4\n"
   ]
  },
  {
   "cell_type": "code",
   "execution_count": 4,
   "id": "1e28f79c",
   "metadata": {},
   "outputs": [
    {
     "name": "stderr",
     "output_type": "stream",
     "text": [
      "Warning : `load_model` does not return WordVectorModel or SupervisedModel any more, but a `FastText` object which is very similar.\n",
      "  0%|          | 0/2 [00:00<?, ?it/s]"
     ]
    },
    {
     "name": "stderr",
     "output_type": "stream",
     "text": [
      "100%|██████████| 2/2 [02:58<00:00, 89.10s/it]"
     ]
    },
    {
     "name": "stdout",
     "output_type": "stream",
     "text": [
      "\n",
      "✅ Done.\n",
      "Total Documents: 1138379\n",
      "English Documents: 483528\n"
     ]
    },
    {
     "name": "stderr",
     "output_type": "stream",
     "text": [
      "\n"
     ]
    }
   ],
   "source": [
    "import os\n",
    "import json\n",
    "import fasttext\n",
    "from tqdm import tqdm\n",
    "from fasttext import FastText\n",
    "# Paths\n",
    "INPUT_DIR = os.path.expanduser(\"/home/blu-bridge004/Desktop/pytorch/rupeshdedup06_07\")\n",
    "OUTPUT_DIR = os.path.expanduser(\"/home/blu-bridge004/Desktop/pytorch/rupeshlangfil06_07\")\n",
    "os.makedirs(OUTPUT_DIR, exist_ok=True)\n",
    "\n",
    "# Load fastText language identification model\n",
    "model_path = \"lid.176.ftz\"\n",
    "if not os.path.exists(model_path):\n",
    "    import urllib.request\n",
    "    print(\"Downloading language model...\")\n",
    "    urllib.request.urlretrieve(\n",
    "        \"https://dl.fbaipublicfiles.com/fasttext/supervised-models/lid.176.ftz\",\n",
    "        model_path\n",
    "    )\n",
    "\n",
    "model = fasttext.load_model(model_path)\n",
    "\n",
    "# Process each file\n",
    "total_docs = 0\n",
    "english_docs = 0\n",
    "\n",
    "for filename in tqdm(sorted(os.listdir(INPUT_DIR))):\n",
    "    if not filename.endswith(\".jsonl\"):\n",
    "        continue\n",
    "\n",
    "    input_path = os.path.join(INPUT_DIR, filename)\n",
    "    output_path = os.path.join(OUTPUT_DIR, filename.replace(\".jsonl\", \".en.jsonl\"))\n",
    "\n",
    "    with open(input_path, \"r\", encoding=\"utf-8\") as in_f, \\\n",
    "         open(output_path, \"w\", encoding=\"utf-8\") as out_f:\n",
    "        \n",
    "        for line in in_f:\n",
    "            data = json.loads(line)\n",
    "            text = data.get(\"text\", \"\")\n",
    "            total_docs += 1\n",
    "\n",
    "            # Language prediction on the first 1000 chars\n",
    "            prediction = model.predict(text.replace(\"\\n\", \" \")[:1000])[0][0]\n",
    "            lang = prediction.replace(\"__label__\", \"\")\n",
    "\n",
    "            if lang == \"en\":\n",
    "                out_f.write(json.dumps(data, ensure_ascii=False) + \"\\n\")\n",
    "                english_docs += 1\n",
    "\n",
    "print(f\"\\n✅ Done.\\nTotal Documents: {total_docs}\\nEnglish Documents: {english_docs}\")\n"
   ]
  }
 ],
 "metadata": {
  "kernelspec": {
   "display_name": "Python 3",
   "language": "python",
   "name": "python3"
  },
  "language_info": {
   "codemirror_mode": {
    "name": "ipython",
    "version": 3
   },
   "file_extension": ".py",
   "mimetype": "text/x-python",
   "name": "python",
   "nbconvert_exporter": "python",
   "pygments_lexer": "ipython3",
   "version": "3.10.12"
  }
 },
 "nbformat": 4,
 "nbformat_minor": 5
}
