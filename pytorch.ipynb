{
 "cells": [
  {
   "cell_type": "code",
   "execution_count": 159,
   "id": "71f28b84",
   "metadata": {},
   "outputs": [
    {
     "name": "stdout",
     "output_type": "stream",
     "text": [
      "True\n",
      "1\n",
      "NVIDIA GeForce RTX 3060\n"
     ]
    }
   ],
   "source": [
    "import torch\n",
    "print(torch.cuda.is_available())  # Should be True\n",
    "print(torch.cuda.device_count())  # Number of GPUs\n",
    "print(torch.cuda.get_device_name(0))  # Name of your GPU\n",
    "device = torch.device(\"cuda\" if torch.cuda.is_available() else \"cpu\")"
   ]
  },
  {
   "cell_type": "code",
   "execution_count": 160,
   "id": "a9a7e7e3",
   "metadata": {},
   "outputs": [
    {
     "data": {
      "text/plain": [
       "0"
      ]
     },
     "execution_count": 160,
     "metadata": {},
     "output_type": "execute_result"
    }
   ],
   "source": [
    "scalar=torch.tensor(7)\n",
    "scalar.ndim"
   ]
  },
  {
   "cell_type": "code",
   "execution_count": 161,
   "id": "b792f4f0",
   "metadata": {},
   "outputs": [
    {
     "data": {
      "text/plain": [
       "1"
      ]
     },
     "execution_count": 161,
     "metadata": {},
     "output_type": "execute_result"
    }
   ],
   "source": [
    "vector=torch.tensor([7,7])\n",
    "vector.ndim"
   ]
  },
  {
   "cell_type": "code",
   "execution_count": 162,
   "id": "7ee1bc38",
   "metadata": {},
   "outputs": [
    {
     "data": {
      "text/plain": [
       "(torch.Size([2, 2, 2]), 3)"
      ]
     },
     "execution_count": 162,
     "metadata": {},
     "output_type": "execute_result"
    }
   ],
   "source": [
    "matrix=torch.tensor([[[7,8],[5,7]],[[6,6],[6,8]]])\n",
    "matrix.shape,matrix.ndim"
   ]
  },
  {
   "cell_type": "code",
   "execution_count": 163,
   "id": "9c909a8a",
   "metadata": {},
   "outputs": [
    {
     "data": {
      "text/plain": [
       "tensor([[-0.9594,  0.7205,  0.7398, -0.5046, -1.8604],\n",
       "        [-0.5086,  0.4536,  0.2984,  0.3757, -0.5892],\n",
       "        [ 1.3126, -1.2302, -0.5946,  0.3020, -0.4342],\n",
       "        [-0.3792,  0.0972,  1.4934, -1.9816,  0.0779]])"
      ]
     },
     "execution_count": 163,
     "metadata": {},
     "output_type": "execute_result"
    }
   ],
   "source": [
    "random=torch.randn([4,5])\n",
    "random"
   ]
  },
  {
   "cell_type": "code",
   "execution_count": 164,
   "id": "e864a23b",
   "metadata": {},
   "outputs": [
    {
     "name": "stdout",
     "output_type": "stream",
     "text": [
      "tensor([[0., 0., 0.],\n",
      "        [0., 0., 0.],\n",
      "        [0., 0., 0.]])\n",
      "tensor([[1., 1., 1.],\n",
      "        [1., 1., 1.],\n",
      "        [1., 1., 1.]])\n"
     ]
    }
   ],
   "source": [
    "zeros=torch.zeros(size=[3,3])\n",
    "ones=torch.ones(size=[3,3])\n",
    "print(zeros)\n",
    "print(ones)"
   ]
  },
  {
   "cell_type": "code",
   "execution_count": 165,
   "id": "ef431fd8",
   "metadata": {},
   "outputs": [
    {
     "data": {
      "text/plain": [
       "tensor([ 1,  3,  5,  7,  9, 11, 13, 15, 17, 19])"
      ]
     },
     "execution_count": 165,
     "metadata": {},
     "output_type": "execute_result"
    }
   ],
   "source": [
    "range=torch.arange(start=1,end=20,step=2)\n",
    "range"
   ]
  },
  {
   "cell_type": "code",
   "execution_count": 166,
   "id": "0dfdff1f",
   "metadata": {},
   "outputs": [
    {
     "data": {
      "text/plain": [
       "torch.float32"
      ]
     },
     "execution_count": 166,
     "metadata": {},
     "output_type": "execute_result"
    }
   ],
   "source": [
    "newzeros=torch.zeros_like(zeros).dtype\n",
    "newzeros"
   ]
  },
  {
   "cell_type": "code",
   "execution_count": 167,
   "id": "c5f6dea5",
   "metadata": {},
   "outputs": [
    {
     "name": "stdout",
     "output_type": "stream",
     "text": [
      "tensor([[[3, 4, 5],\n",
      "         [4, 7, 9]],\n",
      "\n",
      "        [[1, 2, 1],\n",
      "         [5, 6, 8]]], device='cuda:0')\n"
     ]
    }
   ],
   "source": [
    "data=torch.tensor([[[3,4,5],[4,7,9]],[[1,2,1],[5,6,8]]])\n",
    "data=data.to(device=device)\n",
    "print(data)"
   ]
  },
  {
   "cell_type": "code",
   "execution_count": 168,
   "id": "9f580918",
   "metadata": {},
   "outputs": [
    {
     "data": {
      "text/plain": [
       "device(type='cuda', index=0)"
      ]
     },
     "execution_count": 168,
     "metadata": {},
     "output_type": "execute_result"
    }
   ],
   "source": [
    "data.device"
   ]
  },
  {
   "cell_type": "code",
   "execution_count": 181,
   "id": "88b85b6a",
   "metadata": {},
   "outputs": [
    {
     "data": {
      "text/plain": [
       "tensor([11, 12, 13])"
      ]
     },
     "execution_count": 181,
     "metadata": {},
     "output_type": "execute_result"
    }
   ],
   "source": [
    "tensor=torch.tensor([1,2,3])\n",
    "tensor+10"
   ]
  },
  {
   "cell_type": "code",
   "execution_count": 170,
   "id": "af1b1ee3",
   "metadata": {},
   "outputs": [
    {
     "data": {
      "text/plain": [
       "tensor([10, 20, 30])"
      ]
     },
     "execution_count": 170,
     "metadata": {},
     "output_type": "execute_result"
    }
   ],
   "source": [
    "tensor*10"
   ]
  },
  {
   "cell_type": "code",
   "execution_count": 171,
   "id": "ac0c0cc5",
   "metadata": {},
   "outputs": [
    {
     "data": {
      "text/plain": [
       "tensor([1, 4, 9])"
      ]
     },
     "execution_count": 171,
     "metadata": {},
     "output_type": "execute_result"
    }
   ],
   "source": [
    "tensor * tensor"
   ]
  },
  {
   "cell_type": "code",
   "execution_count": 209,
   "id": "130873a4",
   "metadata": {},
   "outputs": [],
   "source": [
    "import torch\n"
   ]
  },
  {
   "cell_type": "code",
   "execution_count": 211,
   "id": "03d8f3a5",
   "metadata": {},
   "outputs": [
    {
     "data": {
      "text/plain": [
       "tensor(14)"
      ]
     },
     "execution_count": 211,
     "metadata": {},
     "output_type": "execute_result"
    }
   ],
   "source": [
    "\n",
    "tensor=torch.tensor([1,2,3])\n",
    "torch.matmul(tensor,tensor)\n"
   ]
  },
  {
   "cell_type": "code",
   "execution_count": 231,
   "id": "274a002a",
   "metadata": {},
   "outputs": [
    {
     "data": {
      "text/plain": [
       "tensor([[ 5,  8, 14],\n",
       "        [ 8, 13, 23],\n",
       "        [14, 23, 41]])"
      ]
     },
     "execution_count": 231,
     "metadata": {},
     "output_type": "execute_result"
    }
   ],
   "source": [
    "\n",
    "tensor1=torch.tensor([[1,2],[2,3],[4,5]])\n",
    "tensor2=torch.tensor([[1,2],[2,3],[4,5]])\n",
    "tensor2=torch.transpose(tensor2,0,1)\n",
    "torch.matmul(tensor1,tensor2)"
   ]
  },
  {
   "cell_type": "code",
   "execution_count": 240,
   "id": "76f7d083",
   "metadata": {},
   "outputs": [
    {
     "data": {
      "text/plain": [
       "torch.float32"
      ]
     },
     "execution_count": 240,
     "metadata": {},
     "output_type": "execute_result"
    }
   ],
   "source": [
    "tensor=torch.tensor([1.0,2,3,3,4]).dtype\n",
    "tensor"
   ]
  },
  {
   "cell_type": "code",
   "execution_count": 233,
   "id": "d36cc66d",
   "metadata": {},
   "outputs": [
    {
     "data": {
      "text/plain": [
       "tensor(34)"
      ]
     },
     "execution_count": 233,
     "metadata": {},
     "output_type": "execute_result"
    }
   ],
   "source": [
    "torch.max(tensor)"
   ]
  },
  {
   "cell_type": "code",
   "execution_count": 236,
   "id": "8888e07d",
   "metadata": {},
   "outputs": [
    {
     "data": {
      "text/plain": [
       "tensor(8.8000)"
      ]
     },
     "execution_count": 236,
     "metadata": {},
     "output_type": "execute_result"
    }
   ],
   "source": [
    "torch.mean(tensor.type(torch.float32))"
   ]
  },
  {
   "cell_type": "code",
   "execution_count": 261,
   "id": "adb2f096",
   "metadata": {},
   "outputs": [
    {
     "data": {
      "text/plain": [
       "tensor([[ 2.,  4.],\n",
       "        [ 4.,  6.],\n",
       "        [ 8., 10.]], dtype=torch.float64)"
      ]
     },
     "execution_count": 261,
     "metadata": {},
     "output_type": "execute_result"
    }
   ],
   "source": [
    "tensor1=torch.tensor([[1,2],[2,3],[4,5]],dtype=torch.float32)\n",
    "tensor2=torch.tensor([[1,2],[2,3],[4,5]],dtype=torch.float64)\n",
    "tensor1+tensor2"
   ]
  },
  {
   "cell_type": "code",
   "execution_count": 6,
   "id": "dbfd2cb4",
   "metadata": {},
   "outputs": [
    {
     "ename": "RuntimeError",
     "evalue": "asyncio.run() cannot be called from a running event loop",
     "output_type": "error",
     "traceback": [
      "\u001b[0;31m---------------------------------------------------------------------------\u001b[0m",
      "\u001b[0;31mRuntimeError\u001b[0m                              Traceback (most recent call last)",
      "Cell \u001b[0;32mIn[6], line 14\u001b[0m\n\u001b[1;32m     11\u001b[0m         \u001b[38;5;28mprint\u001b[39m(result\u001b[38;5;241m.\u001b[39mmarkdown)\n\u001b[1;32m     13\u001b[0m \u001b[38;5;66;03m# Run the async main function\u001b[39;00m\n\u001b[0;32m---> 14\u001b[0m \u001b[43masyncio\u001b[49m\u001b[38;5;241;43m.\u001b[39;49m\u001b[43mrun\u001b[49m\u001b[43m(\u001b[49m\u001b[43mmain\u001b[49m\u001b[43m(\u001b[49m\u001b[43m)\u001b[49m\u001b[43m)\u001b[49m\n",
      "File \u001b[0;32m/usr/lib/python3.10/asyncio/runners.py:33\u001b[0m, in \u001b[0;36mrun\u001b[0;34m(main, debug)\u001b[0m\n\u001b[1;32m      9\u001b[0m \u001b[38;5;250m\u001b[39m\u001b[38;5;124;03m\"\"\"Execute the coroutine and return the result.\u001b[39;00m\n\u001b[1;32m     10\u001b[0m \n\u001b[1;32m     11\u001b[0m \u001b[38;5;124;03mThis function runs the passed coroutine, taking care of\u001b[39;00m\n\u001b[0;32m   (...)\u001b[0m\n\u001b[1;32m     30\u001b[0m \u001b[38;5;124;03m    asyncio.run(main())\u001b[39;00m\n\u001b[1;32m     31\u001b[0m \u001b[38;5;124;03m\"\"\"\u001b[39;00m\n\u001b[1;32m     32\u001b[0m \u001b[38;5;28;01mif\u001b[39;00m events\u001b[38;5;241m.\u001b[39m_get_running_loop() \u001b[38;5;129;01mis\u001b[39;00m \u001b[38;5;129;01mnot\u001b[39;00m \u001b[38;5;28;01mNone\u001b[39;00m:\n\u001b[0;32m---> 33\u001b[0m     \u001b[38;5;28;01mraise\u001b[39;00m \u001b[38;5;167;01mRuntimeError\u001b[39;00m(\n\u001b[1;32m     34\u001b[0m         \u001b[38;5;124m\"\u001b[39m\u001b[38;5;124masyncio.run() cannot be called from a running event loop\u001b[39m\u001b[38;5;124m\"\u001b[39m)\n\u001b[1;32m     36\u001b[0m \u001b[38;5;28;01mif\u001b[39;00m \u001b[38;5;129;01mnot\u001b[39;00m coroutines\u001b[38;5;241m.\u001b[39miscoroutine(main):\n\u001b[1;32m     37\u001b[0m     \u001b[38;5;28;01mraise\u001b[39;00m \u001b[38;5;167;01mValueError\u001b[39;00m(\u001b[38;5;124m\"\u001b[39m\u001b[38;5;124ma coroutine was expected, got \u001b[39m\u001b[38;5;132;01m{!r}\u001b[39;00m\u001b[38;5;124m\"\u001b[39m\u001b[38;5;241m.\u001b[39mformat(main))\n",
      "\u001b[0;31mRuntimeError\u001b[0m: asyncio.run() cannot be called from a running event loop"
     ]
    }
   ],
   "source": [
    "import asyncio\n",
    "from crawl4ai import AsyncWebCrawler\n",
    "\n",
    "async def main():\n",
    "    # Create an instance of AsyncWebCrawler\n",
    "    async with AsyncWebCrawler() as crawler:\n",
    "        # Run the crawler on a URL\n",
    "        result = await crawler.arun(url=\"https://crawl4ai.com\")\n",
    "\n",
    "        # Print the extracted content\n",
    "        print(result.markdown)\n",
    "\n",
    "# Run the async main function\n",
    "asyncio.run(main())"
   ]
  },
  {
   "cell_type": "code",
   "execution_count": 7,
   "id": "d3210174",
   "metadata": {},
   "outputs": [
    {
     "ename": "ModuleNotFoundError",
     "evalue": "No module named 'kenlm'",
     "output_type": "error",
     "traceback": [
      "\u001b[0;31m---------------------------------------------------------------------------\u001b[0m",
      "\u001b[0;31mModuleNotFoundError\u001b[0m                       Traceback (most recent call last)",
      "Cell \u001b[0;32mIn[7], line 1\u001b[0m\n\u001b[0;32m----> 1\u001b[0m \u001b[38;5;28;01mimport\u001b[39;00m\u001b[38;5;250m \u001b[39m\u001b[38;5;21;01mkenlm\u001b[39;00m\n\u001b[1;32m      3\u001b[0m model \u001b[38;5;241m=\u001b[39m kenlm\u001b[38;5;241m.\u001b[39mModel(\u001b[38;5;124m'\u001b[39m\u001b[38;5;124myour_model.arpa\u001b[39m\u001b[38;5;124m'\u001b[39m)\n\u001b[1;32m      4\u001b[0m sentence \u001b[38;5;241m=\u001b[39m \u001b[38;5;124m\"\u001b[39m\u001b[38;5;124mThe quick brown fox jumps over the lazy dog\u001b[39m\u001b[38;5;124m\"\u001b[39m\n",
      "\u001b[0;31mModuleNotFoundError\u001b[0m: No module named 'kenlm'"
     ]
    }
   ],
   "source": [
    "import kenlm\n",
    "\n",
    "model = kenlm.Model('your_model.arpa')\n",
    "sentence = \"The quick brown fox jumps over the lazy dog\"\n",
    "\n",
    "print(model.score(sentence))  # log-probability\n"
   ]
  },
  {
   "cell_type": "code",
   "execution_count": 23,
   "id": "a4bb648a",
   "metadata": {},
   "outputs": [
    {
     "data": {
      "text/plain": [
       "8501"
      ]
     },
     "execution_count": 23,
     "metadata": {},
     "output_type": "execute_result"
    }
   ],
   "source": [
    "7323+1178\n",
    "\n"
   ]
  },
  {
   "cell_type": "code",
   "execution_count": 2,
   "id": "d4627315",
   "metadata": {},
   "outputs": [
    {
     "name": "stdout",
     "output_type": "stream",
     "text": [
      "[1/210] Downloading: https://data.commoncrawl.org/crawl-data/CC-MAIN-2025-13/segments/1742004432822.9/wet/CC-MAIN-20250315031626-20250315061626-00290.warc.wet.gz\n",
      "Saved to: /media/blu-bridge004/Expansion/train/wet_files_200_500/CC-MAIN-20250315031626-20250315061626-00290.warc.wet.gz \n",
      "total time taken  : 6.0397047996521s\n",
      "[2/210] Downloading: https://data.commoncrawl.org/crawl-data/CC-MAIN-2025-13/segments/1742004432822.9/wet/CC-MAIN-20250315031626-20250315061626-00291.warc.wet.gz\n",
      "Saved to: /media/blu-bridge004/Expansion/train/wet_files_200_500/CC-MAIN-20250315031626-20250315061626-00291.warc.wet.gz \n",
      "total time taken  : 13.911158323287964s\n",
      "[3/210] Downloading: https://data.commoncrawl.org/crawl-data/CC-MAIN-2025-13/segments/1742004432822.9/wet/CC-MAIN-20250315031626-20250315061626-00292.warc.wet.gz\n",
      "Saved to: /media/blu-bridge004/Expansion/train/wet_files_200_500/CC-MAIN-20250315031626-20250315061626-00292.warc.wet.gz \n",
      "total time taken  : 5.522820472717285s\n",
      "[4/210] Downloading: https://data.commoncrawl.org/crawl-data/CC-MAIN-2025-13/segments/1742004432822.9/wet/CC-MAIN-20250315031626-20250315061626-00293.warc.wet.gz\n",
      "Saved to: /media/blu-bridge004/Expansion/train/wet_files_200_500/CC-MAIN-20250315031626-20250315061626-00293.warc.wet.gz \n",
      "total time taken  : 5.81653904914856s\n",
      "[5/210] Downloading: https://data.commoncrawl.org/crawl-data/CC-MAIN-2025-13/segments/1742004432822.9/wet/CC-MAIN-20250315031626-20250315061626-00294.warc.wet.gz\n",
      "Saved to: /media/blu-bridge004/Expansion/train/wet_files_200_500/CC-MAIN-20250315031626-20250315061626-00294.warc.wet.gz \n",
      "total time taken  : 5.857913494110107s\n",
      "[6/210] Downloading: https://data.commoncrawl.org/crawl-data/CC-MAIN-2025-13/segments/1742004432822.9/wet/CC-MAIN-20250315031626-20250315061626-00295.warc.wet.gz\n",
      "Saved to: /media/blu-bridge004/Expansion/train/wet_files_200_500/CC-MAIN-20250315031626-20250315061626-00295.warc.wet.gz \n",
      "total time taken  : 5.323119163513184s\n",
      "[7/210] Downloading: https://data.commoncrawl.org/crawl-data/CC-MAIN-2025-13/segments/1742004432822.9/wet/CC-MAIN-20250315031626-20250315061626-00296.warc.wet.gz\n",
      "Saved to: /media/blu-bridge004/Expansion/train/wet_files_200_500/CC-MAIN-20250315031626-20250315061626-00296.warc.wet.gz \n",
      "total time taken  : 5.512797832489014s\n",
      "[8/210] Downloading: https://data.commoncrawl.org/crawl-data/CC-MAIN-2025-13/segments/1742004432822.9/wet/CC-MAIN-20250315031626-20250315061626-00297.warc.wet.gz\n",
      "Saved to: /media/blu-bridge004/Expansion/train/wet_files_200_500/CC-MAIN-20250315031626-20250315061626-00297.warc.wet.gz \n",
      "total time taken  : 5.826960802078247s\n",
      "[9/210] Downloading: https://data.commoncrawl.org/crawl-data/CC-MAIN-2025-13/segments/1742004432822.9/wet/CC-MAIN-20250315031626-20250315061626-00298.warc.wet.gz\n",
      "Saved to: /media/blu-bridge004/Expansion/train/wet_files_200_500/CC-MAIN-20250315031626-20250315061626-00298.warc.wet.gz \n",
      "total time taken  : 6.14762806892395s\n",
      "[10/210] Downloading: https://data.commoncrawl.org/crawl-data/CC-MAIN-2025-13/segments/1742004432822.9/wet/CC-MAIN-20250315031626-20250315061626-00299.warc.wet.gz\n",
      "Saved to: /media/blu-bridge004/Expansion/train/wet_files_200_500/CC-MAIN-20250315031626-20250315061626-00299.warc.wet.gz \n",
      "total time taken  : 6.102492332458496s\n",
      "[11/210] Downloading: https://data.commoncrawl.org/crawl-data/CC-MAIN-2025-13/segments/1742004432822.9/wet/CC-MAIN-20250315031626-20250315061626-00300.warc.wet.gz\n",
      "Saved to: /media/blu-bridge004/Expansion/train/wet_files_200_500/CC-MAIN-20250315031626-20250315061626-00300.warc.wet.gz \n",
      "total time taken  : 5.998724460601807s\n",
      "[12/210] Downloading: https://data.commoncrawl.org/crawl-data/CC-MAIN-2025-13/segments/1742004432822.9/wet/CC-MAIN-20250315031626-20250315061626-00301.warc.wet.gz\n",
      "Saved to: /media/blu-bridge004/Expansion/train/wet_files_200_500/CC-MAIN-20250315031626-20250315061626-00301.warc.wet.gz \n",
      "total time taken  : 6.002350091934204s\n",
      "[13/210] Downloading: https://data.commoncrawl.org/crawl-data/CC-MAIN-2025-13/segments/1742004432822.9/wet/CC-MAIN-20250315031626-20250315061626-00302.warc.wet.gz\n",
      "Saved to: /media/blu-bridge004/Expansion/train/wet_files_200_500/CC-MAIN-20250315031626-20250315061626-00302.warc.wet.gz \n",
      "total time taken  : 5.786726474761963s\n",
      "[14/210] Downloading: https://data.commoncrawl.org/crawl-data/CC-MAIN-2025-13/segments/1742004432822.9/wet/CC-MAIN-20250315031626-20250315061626-00303.warc.wet.gz\n",
      "Saved to: /media/blu-bridge004/Expansion/train/wet_files_200_500/CC-MAIN-20250315031626-20250315061626-00303.warc.wet.gz \n",
      "total time taken  : 12.864165306091309s\n",
      "[15/210] Downloading: https://data.commoncrawl.org/crawl-data/CC-MAIN-2025-13/segments/1742004432822.9/wet/CC-MAIN-20250315031626-20250315061626-00304.warc.wet.gz\n",
      "Saved to: /media/blu-bridge004/Expansion/train/wet_files_200_500/CC-MAIN-20250315031626-20250315061626-00304.warc.wet.gz \n",
      "total time taken  : 5.7459940910339355s\n",
      "[16/210] Downloading: https://data.commoncrawl.org/crawl-data/CC-MAIN-2025-13/segments/1742004432822.9/wet/CC-MAIN-20250315031626-20250315061626-00305.warc.wet.gz\n",
      "Saved to: /media/blu-bridge004/Expansion/train/wet_files_200_500/CC-MAIN-20250315031626-20250315061626-00305.warc.wet.gz \n",
      "total time taken  : 5.439772605895996s\n",
      "[17/210] Downloading: https://data.commoncrawl.org/crawl-data/CC-MAIN-2025-13/segments/1742004432822.9/wet/CC-MAIN-20250315031626-20250315061626-00306.warc.wet.gz\n",
      "Saved to: /media/blu-bridge004/Expansion/train/wet_files_200_500/CC-MAIN-20250315031626-20250315061626-00306.warc.wet.gz \n",
      "total time taken  : 5.380100727081299s\n",
      "[18/210] Downloading: https://data.commoncrawl.org/crawl-data/CC-MAIN-2025-13/segments/1742004432822.9/wet/CC-MAIN-20250315031626-20250315061626-00307.warc.wet.gz\n",
      "Saved to: /media/blu-bridge004/Expansion/train/wet_files_200_500/CC-MAIN-20250315031626-20250315061626-00307.warc.wet.gz \n",
      "total time taken  : 5.9634850025177s\n",
      "[19/210] Downloading: https://data.commoncrawl.org/crawl-data/CC-MAIN-2025-13/segments/1742004432822.9/wet/CC-MAIN-20250315031626-20250315061626-00308.warc.wet.gz\n",
      "Saved to: /media/blu-bridge004/Expansion/train/wet_files_200_500/CC-MAIN-20250315031626-20250315061626-00308.warc.wet.gz \n",
      "total time taken  : 5.792902946472168s\n",
      "[20/210] Downloading: https://data.commoncrawl.org/crawl-data/CC-MAIN-2025-13/segments/1742004432822.9/wet/CC-MAIN-20250315031626-20250315061626-00309.warc.wet.gz\n",
      "Saved to: /media/blu-bridge004/Expansion/train/wet_files_200_500/CC-MAIN-20250315031626-20250315061626-00309.warc.wet.gz \n",
      "total time taken  : 6.134327173233032s\n",
      "[21/210] Downloading: https://data.commoncrawl.org/crawl-data/CC-MAIN-2025-13/segments/1742004432822.9/wet/CC-MAIN-20250315031626-20250315061626-00310.warc.wet.gz\n",
      "Saved to: /media/blu-bridge004/Expansion/train/wet_files_200_500/CC-MAIN-20250315031626-20250315061626-00310.warc.wet.gz \n",
      "total time taken  : 5.549445629119873s\n",
      "[22/210] Downloading: https://data.commoncrawl.org/crawl-data/CC-MAIN-2025-13/segments/1742004432822.9/wet/CC-MAIN-20250315031626-20250315061626-00311.warc.wet.gz\n",
      "Saved to: /media/blu-bridge004/Expansion/train/wet_files_200_500/CC-MAIN-20250315031626-20250315061626-00311.warc.wet.gz \n",
      "total time taken  : 5.408746957778931s\n",
      "[23/210] Downloading: https://data.commoncrawl.org/crawl-data/CC-MAIN-2025-13/segments/1742004432822.9/wet/CC-MAIN-20250315031626-20250315061626-00312.warc.wet.gz\n",
      "Saved to: /media/blu-bridge004/Expansion/train/wet_files_200_500/CC-MAIN-20250315031626-20250315061626-00312.warc.wet.gz \n",
      "total time taken  : 5.60462212562561s\n",
      "[24/210] Downloading: https://data.commoncrawl.org/crawl-data/CC-MAIN-2025-13/segments/1742004432822.9/wet/CC-MAIN-20250315031626-20250315061626-00313.warc.wet.gz\n",
      "Saved to: /media/blu-bridge004/Expansion/train/wet_files_200_500/CC-MAIN-20250315031626-20250315061626-00313.warc.wet.gz \n",
      "total time taken  : 11.644134759902954s\n",
      "[25/210] Downloading: https://data.commoncrawl.org/crawl-data/CC-MAIN-2025-13/segments/1742004432822.9/wet/CC-MAIN-20250315031626-20250315061626-00314.warc.wet.gz\n",
      "Saved to: /media/blu-bridge004/Expansion/train/wet_files_200_500/CC-MAIN-20250315031626-20250315061626-00314.warc.wet.gz \n",
      "total time taken  : 5.636873960494995s\n",
      "[26/210] Downloading: https://data.commoncrawl.org/crawl-data/CC-MAIN-2025-13/segments/1742004432822.9/wet/CC-MAIN-20250315031626-20250315061626-00315.warc.wet.gz\n",
      "Saved to: /media/blu-bridge004/Expansion/train/wet_files_200_500/CC-MAIN-20250315031626-20250315061626-00315.warc.wet.gz \n",
      "total time taken  : 5.9049084186553955s\n",
      "[27/210] Downloading: https://data.commoncrawl.org/crawl-data/CC-MAIN-2025-13/segments/1742004432822.9/wet/CC-MAIN-20250315031626-20250315061626-00316.warc.wet.gz\n",
      "Saved to: /media/blu-bridge004/Expansion/train/wet_files_200_500/CC-MAIN-20250315031626-20250315061626-00316.warc.wet.gz \n",
      "total time taken  : 11.237935066223145s\n",
      "[28/210] Downloading: https://data.commoncrawl.org/crawl-data/CC-MAIN-2025-13/segments/1742004432822.9/wet/CC-MAIN-20250315031626-20250315061626-00317.warc.wet.gz\n",
      "Saved to: /media/blu-bridge004/Expansion/train/wet_files_200_500/CC-MAIN-20250315031626-20250315061626-00317.warc.wet.gz \n",
      "total time taken  : 5.687078237533569s\n",
      "[29/210] Downloading: https://data.commoncrawl.org/crawl-data/CC-MAIN-2025-13/segments/1742004432822.9/wet/CC-MAIN-20250315031626-20250315061626-00318.warc.wet.gz\n",
      "Saved to: /media/blu-bridge004/Expansion/train/wet_files_200_500/CC-MAIN-20250315031626-20250315061626-00318.warc.wet.gz \n",
      "total time taken  : 5.729676723480225s\n",
      "[30/210] Downloading: https://data.commoncrawl.org/crawl-data/CC-MAIN-2025-13/segments/1742004432822.9/wet/CC-MAIN-20250315031626-20250315061626-00319.warc.wet.gz\n",
      "Saved to: /media/blu-bridge004/Expansion/train/wet_files_200_500/CC-MAIN-20250315031626-20250315061626-00319.warc.wet.gz \n",
      "total time taken  : 5.443499326705933s\n",
      "[31/210] Downloading: https://data.commoncrawl.org/crawl-data/CC-MAIN-2025-13/segments/1742004432822.9/wet/CC-MAIN-20250315031626-20250315061626-00320.warc.wet.gz\n",
      "Saved to: /media/blu-bridge004/Expansion/train/wet_files_200_500/CC-MAIN-20250315031626-20250315061626-00320.warc.wet.gz \n",
      "total time taken  : 5.469451665878296s\n",
      "[32/210] Downloading: https://data.commoncrawl.org/crawl-data/CC-MAIN-2025-13/segments/1742004432822.9/wet/CC-MAIN-20250315031626-20250315061626-00321.warc.wet.gz\n",
      "Saved to: /media/blu-bridge004/Expansion/train/wet_files_200_500/CC-MAIN-20250315031626-20250315061626-00321.warc.wet.gz \n",
      "total time taken  : 5.135452747344971s\n",
      "[33/210] Downloading: https://data.commoncrawl.org/crawl-data/CC-MAIN-2025-13/segments/1742004432822.9/wet/CC-MAIN-20250315031626-20250315061626-00322.warc.wet.gz\n",
      "Saved to: /media/blu-bridge004/Expansion/train/wet_files_200_500/CC-MAIN-20250315031626-20250315061626-00322.warc.wet.gz \n",
      "total time taken  : 5.180920839309692s\n",
      "[34/210] Downloading: https://data.commoncrawl.org/crawl-data/CC-MAIN-2025-13/segments/1742004432822.9/wet/CC-MAIN-20250315031626-20250315061626-00323.warc.wet.gz\n",
      "Saved to: /media/blu-bridge004/Expansion/train/wet_files_200_500/CC-MAIN-20250315031626-20250315061626-00323.warc.wet.gz \n",
      "total time taken  : 5.374085187911987s\n",
      "[35/210] Downloading: https://data.commoncrawl.org/crawl-data/CC-MAIN-2025-13/segments/1742004432822.9/wet/CC-MAIN-20250315031626-20250315061626-00324.warc.wet.gz\n",
      "Saved to: /media/blu-bridge004/Expansion/train/wet_files_200_500/CC-MAIN-20250315031626-20250315061626-00324.warc.wet.gz \n",
      "total time taken  : 5.133559942245483s\n",
      "[36/210] Downloading: https://data.commoncrawl.org/crawl-data/CC-MAIN-2025-13/segments/1742004432822.9/wet/CC-MAIN-20250315031626-20250315061626-00325.warc.wet.gz\n",
      "Saved to: /media/blu-bridge004/Expansion/train/wet_files_200_500/CC-MAIN-20250315031626-20250315061626-00325.warc.wet.gz \n",
      "total time taken  : 5.448787450790405s\n",
      "[37/210] Downloading: https://data.commoncrawl.org/crawl-data/CC-MAIN-2025-13/segments/1742004432822.9/wet/CC-MAIN-20250315031626-20250315061626-00326.warc.wet.gz\n",
      "Saved to: /media/blu-bridge004/Expansion/train/wet_files_200_500/CC-MAIN-20250315031626-20250315061626-00326.warc.wet.gz \n",
      "total time taken  : 4.964711427688599s\n",
      "[38/210] Downloading: https://data.commoncrawl.org/crawl-data/CC-MAIN-2025-13/segments/1742004432822.9/wet/CC-MAIN-20250315031626-20250315061626-00327.warc.wet.gz\n",
      "Saved to: /media/blu-bridge004/Expansion/train/wet_files_200_500/CC-MAIN-20250315031626-20250315061626-00327.warc.wet.gz \n",
      "total time taken  : 6.023674726486206s\n",
      "[39/210] Downloading: https://data.commoncrawl.org/crawl-data/CC-MAIN-2025-13/segments/1742004432822.9/wet/CC-MAIN-20250315031626-20250315061626-00328.warc.wet.gz\n",
      "Saved to: /media/blu-bridge004/Expansion/train/wet_files_200_500/CC-MAIN-20250315031626-20250315061626-00328.warc.wet.gz \n",
      "total time taken  : 4.751779317855835s\n",
      "[40/210] Downloading: https://data.commoncrawl.org/crawl-data/CC-MAIN-2025-13/segments/1742004432822.9/wet/CC-MAIN-20250315031626-20250315061626-00329.warc.wet.gz\n",
      "Saved to: /media/blu-bridge004/Expansion/train/wet_files_200_500/CC-MAIN-20250315031626-20250315061626-00329.warc.wet.gz \n",
      "total time taken  : 5.765079021453857s\n",
      "[41/210] Downloading: https://data.commoncrawl.org/crawl-data/CC-MAIN-2025-13/segments/1742004432822.9/wet/CC-MAIN-20250315031626-20250315061626-00330.warc.wet.gz\n",
      "Saved to: /media/blu-bridge004/Expansion/train/wet_files_200_500/CC-MAIN-20250315031626-20250315061626-00330.warc.wet.gz \n",
      "total time taken  : 5.212207317352295s\n",
      "[42/210] Downloading: https://data.commoncrawl.org/crawl-data/CC-MAIN-2025-13/segments/1742004432822.9/wet/CC-MAIN-20250315031626-20250315061626-00331.warc.wet.gz\n",
      "Saved to: /media/blu-bridge004/Expansion/train/wet_files_200_500/CC-MAIN-20250315031626-20250315061626-00331.warc.wet.gz \n",
      "total time taken  : 5.345302581787109s\n",
      "[43/210] Downloading: https://data.commoncrawl.org/crawl-data/CC-MAIN-2025-13/segments/1742004432822.9/wet/CC-MAIN-20250315031626-20250315061626-00332.warc.wet.gz\n",
      "Saved to: /media/blu-bridge004/Expansion/train/wet_files_200_500/CC-MAIN-20250315031626-20250315061626-00332.warc.wet.gz \n",
      "total time taken  : 5.338799953460693s\n",
      "[44/210] Downloading: https://data.commoncrawl.org/crawl-data/CC-MAIN-2025-13/segments/1742004432822.9/wet/CC-MAIN-20250315031626-20250315061626-00333.warc.wet.gz\n",
      "Saved to: /media/blu-bridge004/Expansion/train/wet_files_200_500/CC-MAIN-20250315031626-20250315061626-00333.warc.wet.gz \n",
      "total time taken  : 5.51328182220459s\n",
      "[45/210] Downloading: https://data.commoncrawl.org/crawl-data/CC-MAIN-2025-13/segments/1742004432822.9/wet/CC-MAIN-20250315031626-20250315061626-00334.warc.wet.gz\n",
      "Saved to: /media/blu-bridge004/Expansion/train/wet_files_200_500/CC-MAIN-20250315031626-20250315061626-00334.warc.wet.gz \n",
      "total time taken  : 5.339519739151001s\n",
      "[46/210] Downloading: https://data.commoncrawl.org/crawl-data/CC-MAIN-2025-13/segments/1742004432822.9/wet/CC-MAIN-20250315031626-20250315061626-00335.warc.wet.gz\n",
      "Saved to: /media/blu-bridge004/Expansion/train/wet_files_200_500/CC-MAIN-20250315031626-20250315061626-00335.warc.wet.gz \n",
      "total time taken  : 5.379878997802734s\n",
      "[47/210] Downloading: https://data.commoncrawl.org/crawl-data/CC-MAIN-2025-13/segments/1742004432822.9/wet/CC-MAIN-20250315031626-20250315061626-00336.warc.wet.gz\n",
      "Saved to: /media/blu-bridge004/Expansion/train/wet_files_200_500/CC-MAIN-20250315031626-20250315061626-00336.warc.wet.gz \n",
      "total time taken  : 5.4949517250061035s\n",
      "[48/210] Downloading: https://data.commoncrawl.org/crawl-data/CC-MAIN-2025-13/segments/1742004432822.9/wet/CC-MAIN-20250315031626-20250315061626-00337.warc.wet.gz\n",
      "Saved to: /media/blu-bridge004/Expansion/train/wet_files_200_500/CC-MAIN-20250315031626-20250315061626-00337.warc.wet.gz \n",
      "total time taken  : 5.162276744842529s\n",
      "[49/210] Downloading: https://data.commoncrawl.org/crawl-data/CC-MAIN-2025-13/segments/1742004432822.9/wet/CC-MAIN-20250315031626-20250315061626-00338.warc.wet.gz\n",
      "Saved to: /media/blu-bridge004/Expansion/train/wet_files_200_500/CC-MAIN-20250315031626-20250315061626-00338.warc.wet.gz \n",
      "total time taken  : 5.604290723800659s\n",
      "[50/210] Downloading: https://data.commoncrawl.org/crawl-data/CC-MAIN-2025-13/segments/1742004432822.9/wet/CC-MAIN-20250315031626-20250315061626-00339.warc.wet.gz\n",
      "Saved to: /media/blu-bridge004/Expansion/train/wet_files_200_500/CC-MAIN-20250315031626-20250315061626-00339.warc.wet.gz \n",
      "total time taken  : 5.40357780456543s\n",
      "[51/210] Downloading: https://data.commoncrawl.org/crawl-data/CC-MAIN-2025-13/segments/1742004432822.9/wet/CC-MAIN-20250315031626-20250315061626-00340.warc.wet.gz\n",
      "Saved to: /media/blu-bridge004/Expansion/train/wet_files_200_500/CC-MAIN-20250315031626-20250315061626-00340.warc.wet.gz \n",
      "total time taken  : 5.622350215911865s\n",
      "[52/210] Downloading: https://data.commoncrawl.org/crawl-data/CC-MAIN-2025-13/segments/1742004432822.9/wet/CC-MAIN-20250315031626-20250315061626-00341.warc.wet.gz\n",
      "Saved to: /media/blu-bridge004/Expansion/train/wet_files_200_500/CC-MAIN-20250315031626-20250315061626-00341.warc.wet.gz \n",
      "total time taken  : 5.642210483551025s\n",
      "[53/210] Downloading: https://data.commoncrawl.org/crawl-data/CC-MAIN-2025-13/segments/1742004432822.9/wet/CC-MAIN-20250315031626-20250315061626-00342.warc.wet.gz\n",
      "Saved to: /media/blu-bridge004/Expansion/train/wet_files_200_500/CC-MAIN-20250315031626-20250315061626-00342.warc.wet.gz \n",
      "total time taken  : 5.21168065071106s\n",
      "[54/210] Downloading: https://data.commoncrawl.org/crawl-data/CC-MAIN-2025-13/segments/1742004432822.9/wet/CC-MAIN-20250315031626-20250315061626-00343.warc.wet.gz\n",
      "Saved to: /media/blu-bridge004/Expansion/train/wet_files_200_500/CC-MAIN-20250315031626-20250315061626-00343.warc.wet.gz \n",
      "total time taken  : 5.650871992111206s\n",
      "[55/210] Downloading: https://data.commoncrawl.org/crawl-data/CC-MAIN-2025-13/segments/1742004432822.9/wet/CC-MAIN-20250315031626-20250315061626-00344.warc.wet.gz\n",
      "Saved to: /media/blu-bridge004/Expansion/train/wet_files_200_500/CC-MAIN-20250315031626-20250315061626-00344.warc.wet.gz \n",
      "total time taken  : 5.3581085205078125s\n",
      "[56/210] Downloading: https://data.commoncrawl.org/crawl-data/CC-MAIN-2025-13/segments/1742004432822.9/wet/CC-MAIN-20250315031626-20250315061626-00345.warc.wet.gz\n",
      "Saved to: /media/blu-bridge004/Expansion/train/wet_files_200_500/CC-MAIN-20250315031626-20250315061626-00345.warc.wet.gz \n",
      "total time taken  : 4.7589170932769775s\n",
      "[57/210] Downloading: https://data.commoncrawl.org/crawl-data/CC-MAIN-2025-13/segments/1742004432822.9/wet/CC-MAIN-20250315031626-20250315061626-00346.warc.wet.gz\n",
      "Saved to: /media/blu-bridge004/Expansion/train/wet_files_200_500/CC-MAIN-20250315031626-20250315061626-00346.warc.wet.gz \n",
      "total time taken  : 5.519171476364136s\n",
      "[58/210] Downloading: https://data.commoncrawl.org/crawl-data/CC-MAIN-2025-13/segments/1742004432822.9/wet/CC-MAIN-20250315031626-20250315061626-00347.warc.wet.gz\n",
      "Saved to: /media/blu-bridge004/Expansion/train/wet_files_200_500/CC-MAIN-20250315031626-20250315061626-00347.warc.wet.gz \n",
      "total time taken  : 5.348646879196167s\n",
      "[59/210] Downloading: https://data.commoncrawl.org/crawl-data/CC-MAIN-2025-13/segments/1742004432822.9/wet/CC-MAIN-20250315031626-20250315061626-00348.warc.wet.gz\n",
      "Saved to: /media/blu-bridge004/Expansion/train/wet_files_200_500/CC-MAIN-20250315031626-20250315061626-00348.warc.wet.gz \n",
      "total time taken  : 5.328713893890381s\n",
      "[60/210] Downloading: https://data.commoncrawl.org/crawl-data/CC-MAIN-2025-13/segments/1742004432822.9/wet/CC-MAIN-20250315031626-20250315061626-00349.warc.wet.gz\n",
      "Saved to: /media/blu-bridge004/Expansion/train/wet_files_200_500/CC-MAIN-20250315031626-20250315061626-00349.warc.wet.gz \n",
      "total time taken  : 5.230494737625122s\n",
      "[61/210] Downloading: https://data.commoncrawl.org/crawl-data/CC-MAIN-2025-13/segments/1742004432822.9/wet/CC-MAIN-20250315031626-20250315061626-00350.warc.wet.gz\n",
      "Saved to: /media/blu-bridge004/Expansion/train/wet_files_200_500/CC-MAIN-20250315031626-20250315061626-00350.warc.wet.gz \n",
      "total time taken  : 5.3074870109558105s\n",
      "[62/210] Downloading: https://data.commoncrawl.org/crawl-data/CC-MAIN-2025-13/segments/1742004432822.9/wet/CC-MAIN-20250315031626-20250315061626-00351.warc.wet.gz\n",
      "Saved to: /media/blu-bridge004/Expansion/train/wet_files_200_500/CC-MAIN-20250315031626-20250315061626-00351.warc.wet.gz \n",
      "total time taken  : 5.662765026092529s\n",
      "[63/210] Downloading: https://data.commoncrawl.org/crawl-data/CC-MAIN-2025-13/segments/1742004432822.9/wet/CC-MAIN-20250315031626-20250315061626-00352.warc.wet.gz\n",
      "Saved to: /media/blu-bridge004/Expansion/train/wet_files_200_500/CC-MAIN-20250315031626-20250315061626-00352.warc.wet.gz \n",
      "total time taken  : 5.178012132644653s\n",
      "[64/210] Downloading: https://data.commoncrawl.org/crawl-data/CC-MAIN-2025-13/segments/1742004432822.9/wet/CC-MAIN-20250315031626-20250315061626-00353.warc.wet.gz\n",
      "Saved to: /media/blu-bridge004/Expansion/train/wet_files_200_500/CC-MAIN-20250315031626-20250315061626-00353.warc.wet.gz \n",
      "total time taken  : 5.154167890548706s\n",
      "[65/210] Downloading: https://data.commoncrawl.org/crawl-data/CC-MAIN-2025-13/segments/1742004432822.9/wet/CC-MAIN-20250315031626-20250315061626-00354.warc.wet.gz\n",
      "Saved to: /media/blu-bridge004/Expansion/train/wet_files_200_500/CC-MAIN-20250315031626-20250315061626-00354.warc.wet.gz \n",
      "total time taken  : 5.418899297714233s\n",
      "[66/210] Downloading: https://data.commoncrawl.org/crawl-data/CC-MAIN-2025-13/segments/1742004432822.9/wet/CC-MAIN-20250315031626-20250315061626-00355.warc.wet.gz\n",
      "Saved to: /media/blu-bridge004/Expansion/train/wet_files_200_500/CC-MAIN-20250315031626-20250315061626-00355.warc.wet.gz \n",
      "total time taken  : 5.50723934173584s\n",
      "[67/210] Downloading: https://data.commoncrawl.org/crawl-data/CC-MAIN-2025-13/segments/1742004432822.9/wet/CC-MAIN-20250315031626-20250315061626-00356.warc.wet.gz\n",
      "Saved to: /media/blu-bridge004/Expansion/train/wet_files_200_500/CC-MAIN-20250315031626-20250315061626-00356.warc.wet.gz \n",
      "total time taken  : 4.817476987838745s\n",
      "[68/210] Downloading: https://data.commoncrawl.org/crawl-data/CC-MAIN-2025-13/segments/1742004432822.9/wet/CC-MAIN-20250315031626-20250315061626-00357.warc.wet.gz\n",
      "Saved to: /media/blu-bridge004/Expansion/train/wet_files_200_500/CC-MAIN-20250315031626-20250315061626-00357.warc.wet.gz \n",
      "total time taken  : 5.311595916748047s\n",
      "[69/210] Downloading: https://data.commoncrawl.org/crawl-data/CC-MAIN-2025-13/segments/1742004432822.9/wet/CC-MAIN-20250315031626-20250315061626-00358.warc.wet.gz\n",
      "Saved to: /media/blu-bridge004/Expansion/train/wet_files_200_500/CC-MAIN-20250315031626-20250315061626-00358.warc.wet.gz \n",
      "total time taken  : 4.936180591583252s\n",
      "[70/210] Downloading: https://data.commoncrawl.org/crawl-data/CC-MAIN-2025-13/segments/1742004432822.9/wet/CC-MAIN-20250315031626-20250315061626-00359.warc.wet.gz\n",
      "Saved to: /media/blu-bridge004/Expansion/train/wet_files_200_500/CC-MAIN-20250315031626-20250315061626-00359.warc.wet.gz \n",
      "total time taken  : 5.36247992515564s\n",
      "[71/210] Downloading: https://data.commoncrawl.org/crawl-data/CC-MAIN-2025-13/segments/1742004432822.9/wet/CC-MAIN-20250315031626-20250315061626-00360.warc.wet.gz\n",
      "Saved to: /media/blu-bridge004/Expansion/train/wet_files_200_500/CC-MAIN-20250315031626-20250315061626-00360.warc.wet.gz \n",
      "total time taken  : 5.1183812618255615s\n",
      "[72/210] Downloading: https://data.commoncrawl.org/crawl-data/CC-MAIN-2025-13/segments/1742004432822.9/wet/CC-MAIN-20250315031626-20250315061626-00361.warc.wet.gz\n",
      "Saved to: /media/blu-bridge004/Expansion/train/wet_files_200_500/CC-MAIN-20250315031626-20250315061626-00361.warc.wet.gz \n",
      "total time taken  : 5.617332220077515s\n",
      "[73/210] Downloading: https://data.commoncrawl.org/crawl-data/CC-MAIN-2025-13/segments/1742004432822.9/wet/CC-MAIN-20250315031626-20250315061626-00362.warc.wet.gz\n",
      "Saved to: /media/blu-bridge004/Expansion/train/wet_files_200_500/CC-MAIN-20250315031626-20250315061626-00362.warc.wet.gz \n",
      "total time taken  : 4.903631687164307s\n",
      "[74/210] Downloading: https://data.commoncrawl.org/crawl-data/CC-MAIN-2025-13/segments/1742004432822.9/wet/CC-MAIN-20250315031626-20250315061626-00363.warc.wet.gz\n",
      "Saved to: /media/blu-bridge004/Expansion/train/wet_files_200_500/CC-MAIN-20250315031626-20250315061626-00363.warc.wet.gz \n",
      "total time taken  : 5.125599145889282s\n",
      "[75/210] Downloading: https://data.commoncrawl.org/crawl-data/CC-MAIN-2025-13/segments/1742004432822.9/wet/CC-MAIN-20250315031626-20250315061626-00364.warc.wet.gz\n",
      "Saved to: /media/blu-bridge004/Expansion/train/wet_files_200_500/CC-MAIN-20250315031626-20250315061626-00364.warc.wet.gz \n",
      "total time taken  : 5.6274871826171875s\n",
      "[76/210] Downloading: https://data.commoncrawl.org/crawl-data/CC-MAIN-2025-13/segments/1742004432822.9/wet/CC-MAIN-20250315031626-20250315061626-00365.warc.wet.gz\n",
      "Saved to: /media/blu-bridge004/Expansion/train/wet_files_200_500/CC-MAIN-20250315031626-20250315061626-00365.warc.wet.gz \n",
      "total time taken  : 5.282346963882446s\n",
      "[77/210] Downloading: https://data.commoncrawl.org/crawl-data/CC-MAIN-2025-13/segments/1742004432822.9/wet/CC-MAIN-20250315031626-20250315061626-00366.warc.wet.gz\n",
      "Saved to: /media/blu-bridge004/Expansion/train/wet_files_200_500/CC-MAIN-20250315031626-20250315061626-00366.warc.wet.gz \n",
      "total time taken  : 5.091557025909424s\n",
      "[78/210] Downloading: https://data.commoncrawl.org/crawl-data/CC-MAIN-2025-13/segments/1742004432822.9/wet/CC-MAIN-20250315031626-20250315061626-00367.warc.wet.gz\n",
      "Saved to: /media/blu-bridge004/Expansion/train/wet_files_200_500/CC-MAIN-20250315031626-20250315061626-00367.warc.wet.gz \n",
      "total time taken  : 5.6265175342559814s\n",
      "[79/210] Downloading: https://data.commoncrawl.org/crawl-data/CC-MAIN-2025-13/segments/1742004432822.9/wet/CC-MAIN-20250315031626-20250315061626-00368.warc.wet.gz\n",
      "Saved to: /media/blu-bridge004/Expansion/train/wet_files_200_500/CC-MAIN-20250315031626-20250315061626-00368.warc.wet.gz \n",
      "total time taken  : 5.383735656738281s\n",
      "[80/210] Downloading: https://data.commoncrawl.org/crawl-data/CC-MAIN-2025-13/segments/1742004432822.9/wet/CC-MAIN-20250315031626-20250315061626-00369.warc.wet.gz\n",
      "Saved to: /media/blu-bridge004/Expansion/train/wet_files_200_500/CC-MAIN-20250315031626-20250315061626-00369.warc.wet.gz \n",
      "total time taken  : 5.579878568649292s\n",
      "[81/210] Downloading: https://data.commoncrawl.org/crawl-data/CC-MAIN-2025-13/segments/1742004432822.9/wet/CC-MAIN-20250315031626-20250315061626-00370.warc.wet.gz\n",
      "Saved to: /media/blu-bridge004/Expansion/train/wet_files_200_500/CC-MAIN-20250315031626-20250315061626-00370.warc.wet.gz \n",
      "total time taken  : 4.982290744781494s\n",
      "[82/210] Downloading: https://data.commoncrawl.org/crawl-data/CC-MAIN-2025-13/segments/1742004432822.9/wet/CC-MAIN-20250315031626-20250315061626-00371.warc.wet.gz\n",
      "Saved to: /media/blu-bridge004/Expansion/train/wet_files_200_500/CC-MAIN-20250315031626-20250315061626-00371.warc.wet.gz \n",
      "total time taken  : 5.420261859893799s\n",
      "[83/210] Downloading: https://data.commoncrawl.org/crawl-data/CC-MAIN-2025-13/segments/1742004432822.9/wet/CC-MAIN-20250315031626-20250315061626-00372.warc.wet.gz\n",
      "Saved to: /media/blu-bridge004/Expansion/train/wet_files_200_500/CC-MAIN-20250315031626-20250315061626-00372.warc.wet.gz \n",
      "total time taken  : 5.306130886077881s\n",
      "[84/210] Downloading: https://data.commoncrawl.org/crawl-data/CC-MAIN-2025-13/segments/1742004432822.9/wet/CC-MAIN-20250315031626-20250315061626-00373.warc.wet.gz\n",
      "Saved to: /media/blu-bridge004/Expansion/train/wet_files_200_500/CC-MAIN-20250315031626-20250315061626-00373.warc.wet.gz \n",
      "total time taken  : 5.207220554351807s\n",
      "[85/210] Downloading: https://data.commoncrawl.org/crawl-data/CC-MAIN-2025-13/segments/1742004432822.9/wet/CC-MAIN-20250315031626-20250315061626-00374.warc.wet.gz\n",
      "Saved to: /media/blu-bridge004/Expansion/train/wet_files_200_500/CC-MAIN-20250315031626-20250315061626-00374.warc.wet.gz \n",
      "total time taken  : 6.097037315368652s\n",
      "[86/210] Downloading: https://data.commoncrawl.org/crawl-data/CC-MAIN-2025-13/segments/1742004432822.9/wet/CC-MAIN-20250315031626-20250315061626-00375.warc.wet.gz\n",
      "Saved to: /media/blu-bridge004/Expansion/train/wet_files_200_500/CC-MAIN-20250315031626-20250315061626-00375.warc.wet.gz \n",
      "total time taken  : 5.366788148880005s\n",
      "[87/210] Downloading: https://data.commoncrawl.org/crawl-data/CC-MAIN-2025-13/segments/1742004432822.9/wet/CC-MAIN-20250315031626-20250315061626-00376.warc.wet.gz\n",
      "Saved to: /media/blu-bridge004/Expansion/train/wet_files_200_500/CC-MAIN-20250315031626-20250315061626-00376.warc.wet.gz \n",
      "total time taken  : 5.113547086715698s\n",
      "[88/210] Downloading: https://data.commoncrawl.org/crawl-data/CC-MAIN-2025-13/segments/1742004432822.9/wet/CC-MAIN-20250315031626-20250315061626-00377.warc.wet.gz\n",
      "Saved to: /media/blu-bridge004/Expansion/train/wet_files_200_500/CC-MAIN-20250315031626-20250315061626-00377.warc.wet.gz \n",
      "total time taken  : 5.707867622375488s\n",
      "[89/210] Downloading: https://data.commoncrawl.org/crawl-data/CC-MAIN-2025-13/segments/1742004432822.9/wet/CC-MAIN-20250315031626-20250315061626-00378.warc.wet.gz\n",
      "Saved to: /media/blu-bridge004/Expansion/train/wet_files_200_500/CC-MAIN-20250315031626-20250315061626-00378.warc.wet.gz \n",
      "total time taken  : 5.614957571029663s\n",
      "[90/210] Downloading: https://data.commoncrawl.org/crawl-data/CC-MAIN-2025-13/segments/1742004432822.9/wet/CC-MAIN-20250315031626-20250315061626-00379.warc.wet.gz\n",
      "Saved to: /media/blu-bridge004/Expansion/train/wet_files_200_500/CC-MAIN-20250315031626-20250315061626-00379.warc.wet.gz \n",
      "total time taken  : 4.937706470489502s\n",
      "[91/210] Downloading: https://data.commoncrawl.org/crawl-data/CC-MAIN-2025-13/segments/1742004432822.9/wet/CC-MAIN-20250315031626-20250315061626-00380.warc.wet.gz\n",
      "Saved to: /media/blu-bridge004/Expansion/train/wet_files_200_500/CC-MAIN-20250315031626-20250315061626-00380.warc.wet.gz \n",
      "total time taken  : 5.509603023529053s\n",
      "[92/210] Downloading: https://data.commoncrawl.org/crawl-data/CC-MAIN-2025-13/segments/1742004432822.9/wet/CC-MAIN-20250315031626-20250315061626-00381.warc.wet.gz\n",
      "Saved to: /media/blu-bridge004/Expansion/train/wet_files_200_500/CC-MAIN-20250315031626-20250315061626-00381.warc.wet.gz \n",
      "total time taken  : 5.569499254226685s\n",
      "[93/210] Downloading: https://data.commoncrawl.org/crawl-data/CC-MAIN-2025-13/segments/1742004432822.9/wet/CC-MAIN-20250315031626-20250315061626-00382.warc.wet.gz\n",
      "Saved to: /media/blu-bridge004/Expansion/train/wet_files_200_500/CC-MAIN-20250315031626-20250315061626-00382.warc.wet.gz \n",
      "total time taken  : 5.487993478775024s\n",
      "[94/210] Downloading: https://data.commoncrawl.org/crawl-data/CC-MAIN-2025-13/segments/1742004432822.9/wet/CC-MAIN-20250315031626-20250315061626-00383.warc.wet.gz\n",
      "Saved to: /media/blu-bridge004/Expansion/train/wet_files_200_500/CC-MAIN-20250315031626-20250315061626-00383.warc.wet.gz \n",
      "total time taken  : 5.933640480041504s\n",
      "[95/210] Downloading: https://data.commoncrawl.org/crawl-data/CC-MAIN-2025-13/segments/1742004432822.9/wet/CC-MAIN-20250315031626-20250315061626-00384.warc.wet.gz\n",
      "Saved to: /media/blu-bridge004/Expansion/train/wet_files_200_500/CC-MAIN-20250315031626-20250315061626-00384.warc.wet.gz \n",
      "total time taken  : 5.4023590087890625s\n",
      "[96/210] Downloading: https://data.commoncrawl.org/crawl-data/CC-MAIN-2025-13/segments/1742004432822.9/wet/CC-MAIN-20250315031626-20250315061626-00385.warc.wet.gz\n",
      "Saved to: /media/blu-bridge004/Expansion/train/wet_files_200_500/CC-MAIN-20250315031626-20250315061626-00385.warc.wet.gz \n",
      "total time taken  : 5.447753429412842s\n",
      "[97/210] Downloading: https://data.commoncrawl.org/crawl-data/CC-MAIN-2025-13/segments/1742004432822.9/wet/CC-MAIN-20250315031626-20250315061626-00386.warc.wet.gz\n",
      "Saved to: /media/blu-bridge004/Expansion/train/wet_files_200_500/CC-MAIN-20250315031626-20250315061626-00386.warc.wet.gz \n",
      "total time taken  : 5.144192695617676s\n",
      "[98/210] Downloading: https://data.commoncrawl.org/crawl-data/CC-MAIN-2025-13/segments/1742004432822.9/wet/CC-MAIN-20250315031626-20250315061626-00387.warc.wet.gz\n",
      "Saved to: /media/blu-bridge004/Expansion/train/wet_files_200_500/CC-MAIN-20250315031626-20250315061626-00387.warc.wet.gz \n",
      "total time taken  : 5.1488072872161865s\n",
      "[99/210] Downloading: https://data.commoncrawl.org/crawl-data/CC-MAIN-2025-13/segments/1742004432822.9/wet/CC-MAIN-20250315031626-20250315061626-00388.warc.wet.gz\n",
      "Saved to: /media/blu-bridge004/Expansion/train/wet_files_200_500/CC-MAIN-20250315031626-20250315061626-00388.warc.wet.gz \n",
      "total time taken  : 5.593169927597046s\n",
      "[100/210] Downloading: https://data.commoncrawl.org/crawl-data/CC-MAIN-2025-13/segments/1742004432822.9/wet/CC-MAIN-20250315031626-20250315061626-00389.warc.wet.gz\n",
      "Saved to: /media/blu-bridge004/Expansion/train/wet_files_200_500/CC-MAIN-20250315031626-20250315061626-00389.warc.wet.gz \n",
      "total time taken  : 5.4345173835754395s\n",
      "[101/210] Downloading: https://data.commoncrawl.org/crawl-data/CC-MAIN-2025-13/segments/1742004432822.9/wet/CC-MAIN-20250315031626-20250315061626-00390.warc.wet.gz\n",
      "Saved to: /media/blu-bridge004/Expansion/train/wet_files_200_500/CC-MAIN-20250315031626-20250315061626-00390.warc.wet.gz \n",
      "total time taken  : 5.564526557922363s\n",
      "[102/210] Downloading: https://data.commoncrawl.org/crawl-data/CC-MAIN-2025-13/segments/1742004432822.9/wet/CC-MAIN-20250315031626-20250315061626-00391.warc.wet.gz\n",
      "Saved to: /media/blu-bridge004/Expansion/train/wet_files_200_500/CC-MAIN-20250315031626-20250315061626-00391.warc.wet.gz \n",
      "total time taken  : 5.473722696304321s\n",
      "[103/210] Downloading: https://data.commoncrawl.org/crawl-data/CC-MAIN-2025-13/segments/1742004432822.9/wet/CC-MAIN-20250315031626-20250315061626-00392.warc.wet.gz\n",
      "Saved to: /media/blu-bridge004/Expansion/train/wet_files_200_500/CC-MAIN-20250315031626-20250315061626-00392.warc.wet.gz \n",
      "total time taken  : 5.10150146484375s\n",
      "[104/210] Downloading: https://data.commoncrawl.org/crawl-data/CC-MAIN-2025-13/segments/1742004432822.9/wet/CC-MAIN-20250315031626-20250315061626-00393.warc.wet.gz\n",
      "Saved to: /media/blu-bridge004/Expansion/train/wet_files_200_500/CC-MAIN-20250315031626-20250315061626-00393.warc.wet.gz \n",
      "total time taken  : 5.692417144775391s\n",
      "[105/210] Downloading: https://data.commoncrawl.org/crawl-data/CC-MAIN-2025-13/segments/1742004432822.9/wet/CC-MAIN-20250315031626-20250315061626-00394.warc.wet.gz\n",
      "Saved to: /media/blu-bridge004/Expansion/train/wet_files_200_500/CC-MAIN-20250315031626-20250315061626-00394.warc.wet.gz \n",
      "total time taken  : 5.322516918182373s\n",
      "[106/210] Downloading: https://data.commoncrawl.org/crawl-data/CC-MAIN-2025-13/segments/1742004432822.9/wet/CC-MAIN-20250315031626-20250315061626-00395.warc.wet.gz\n",
      "Saved to: /media/blu-bridge004/Expansion/train/wet_files_200_500/CC-MAIN-20250315031626-20250315061626-00395.warc.wet.gz \n",
      "total time taken  : 5.661332607269287s\n",
      "[107/210] Downloading: https://data.commoncrawl.org/crawl-data/CC-MAIN-2025-13/segments/1742004432822.9/wet/CC-MAIN-20250315031626-20250315061626-00396.warc.wet.gz\n",
      "Saved to: /media/blu-bridge004/Expansion/train/wet_files_200_500/CC-MAIN-20250315031626-20250315061626-00396.warc.wet.gz \n",
      "total time taken  : 5.574057102203369s\n",
      "[108/210] Downloading: https://data.commoncrawl.org/crawl-data/CC-MAIN-2025-13/segments/1742004432822.9/wet/CC-MAIN-20250315031626-20250315061626-00397.warc.wet.gz\n",
      "Saved to: /media/blu-bridge004/Expansion/train/wet_files_200_500/CC-MAIN-20250315031626-20250315061626-00397.warc.wet.gz \n",
      "total time taken  : 5.56126070022583s\n",
      "[109/210] Downloading: https://data.commoncrawl.org/crawl-data/CC-MAIN-2025-13/segments/1742004432822.9/wet/CC-MAIN-20250315031626-20250315061626-00398.warc.wet.gz\n",
      "Saved to: /media/blu-bridge004/Expansion/train/wet_files_200_500/CC-MAIN-20250315031626-20250315061626-00398.warc.wet.gz \n",
      "total time taken  : 5.75864315032959s\n",
      "[110/210] Downloading: https://data.commoncrawl.org/crawl-data/CC-MAIN-2025-13/segments/1742004432822.9/wet/CC-MAIN-20250315031626-20250315061626-00399.warc.wet.gz\n",
      "Saved to: /media/blu-bridge004/Expansion/train/wet_files_200_500/CC-MAIN-20250315031626-20250315061626-00399.warc.wet.gz \n",
      "total time taken  : 4.976579666137695s\n",
      "[111/210] Downloading: https://data.commoncrawl.org/crawl-data/CC-MAIN-2025-13/segments/1742004432822.9/wet/CC-MAIN-20250315031626-20250315061626-00400.warc.wet.gz\n",
      "Saved to: /media/blu-bridge004/Expansion/train/wet_files_200_500/CC-MAIN-20250315031626-20250315061626-00400.warc.wet.gz \n",
      "total time taken  : 5.39508056640625s\n",
      "[112/210] Downloading: https://data.commoncrawl.org/crawl-data/CC-MAIN-2025-13/segments/1742004432822.9/wet/CC-MAIN-20250315031626-20250315061626-00401.warc.wet.gz\n",
      "Saved to: /media/blu-bridge004/Expansion/train/wet_files_200_500/CC-MAIN-20250315031626-20250315061626-00401.warc.wet.gz \n",
      "total time taken  : 6.1847083568573s\n",
      "[113/210] Downloading: https://data.commoncrawl.org/crawl-data/CC-MAIN-2025-13/segments/1742004432822.9/wet/CC-MAIN-20250315031626-20250315061626-00402.warc.wet.gz\n",
      "Saved to: /media/blu-bridge004/Expansion/train/wet_files_200_500/CC-MAIN-20250315031626-20250315061626-00402.warc.wet.gz \n",
      "total time taken  : 5.601423978805542s\n",
      "[114/210] Downloading: https://data.commoncrawl.org/crawl-data/CC-MAIN-2025-13/segments/1742004432822.9/wet/CC-MAIN-20250315031626-20250315061626-00403.warc.wet.gz\n",
      "Saved to: /media/blu-bridge004/Expansion/train/wet_files_200_500/CC-MAIN-20250315031626-20250315061626-00403.warc.wet.gz \n",
      "total time taken  : 5.235376358032227s\n",
      "[115/210] Downloading: https://data.commoncrawl.org/crawl-data/CC-MAIN-2025-13/segments/1742004432822.9/wet/CC-MAIN-20250315031626-20250315061626-00404.warc.wet.gz\n",
      "Saved to: /media/blu-bridge004/Expansion/train/wet_files_200_500/CC-MAIN-20250315031626-20250315061626-00404.warc.wet.gz \n",
      "total time taken  : 5.605752944946289s\n",
      "[116/210] Downloading: https://data.commoncrawl.org/crawl-data/CC-MAIN-2025-13/segments/1742004432822.9/wet/CC-MAIN-20250315031626-20250315061626-00405.warc.wet.gz\n",
      "Saved to: /media/blu-bridge004/Expansion/train/wet_files_200_500/CC-MAIN-20250315031626-20250315061626-00405.warc.wet.gz \n",
      "total time taken  : 5.023145437240601s\n",
      "[117/210] Downloading: https://data.commoncrawl.org/crawl-data/CC-MAIN-2025-13/segments/1742004432822.9/wet/CC-MAIN-20250315031626-20250315061626-00406.warc.wet.gz\n",
      "Saved to: /media/blu-bridge004/Expansion/train/wet_files_200_500/CC-MAIN-20250315031626-20250315061626-00406.warc.wet.gz \n",
      "total time taken  : 4.72540545463562s\n",
      "[118/210] Downloading: https://data.commoncrawl.org/crawl-data/CC-MAIN-2025-13/segments/1742004432822.9/wet/CC-MAIN-20250315031626-20250315061626-00407.warc.wet.gz\n",
      "Saved to: /media/blu-bridge004/Expansion/train/wet_files_200_500/CC-MAIN-20250315031626-20250315061626-00407.warc.wet.gz \n",
      "total time taken  : 5.490485668182373s\n",
      "[119/210] Downloading: https://data.commoncrawl.org/crawl-data/CC-MAIN-2025-13/segments/1742004432822.9/wet/CC-MAIN-20250315031626-20250315061626-00408.warc.wet.gz\n",
      "Saved to: /media/blu-bridge004/Expansion/train/wet_files_200_500/CC-MAIN-20250315031626-20250315061626-00408.warc.wet.gz \n",
      "total time taken  : 5.792019367218018s\n",
      "[120/210] Downloading: https://data.commoncrawl.org/crawl-data/CC-MAIN-2025-13/segments/1742004432822.9/wet/CC-MAIN-20250315031626-20250315061626-00409.warc.wet.gz\n",
      "Saved to: /media/blu-bridge004/Expansion/train/wet_files_200_500/CC-MAIN-20250315031626-20250315061626-00409.warc.wet.gz \n",
      "total time taken  : 5.511213302612305s\n",
      "[121/210] Downloading: https://data.commoncrawl.org/crawl-data/CC-MAIN-2025-13/segments/1742004432822.9/wet/CC-MAIN-20250315031626-20250315061626-00410.warc.wet.gz\n",
      "Saved to: /media/blu-bridge004/Expansion/train/wet_files_200_500/CC-MAIN-20250315031626-20250315061626-00410.warc.wet.gz \n",
      "total time taken  : 4.406870365142822s\n",
      "[122/210] Downloading: https://data.commoncrawl.org/crawl-data/CC-MAIN-2025-13/segments/1742004432822.9/wet/CC-MAIN-20250315031626-20250315061626-00411.warc.wet.gz\n",
      "Saved to: /media/blu-bridge004/Expansion/train/wet_files_200_500/CC-MAIN-20250315031626-20250315061626-00411.warc.wet.gz \n",
      "total time taken  : 5.312920331954956s\n",
      "[123/210] Downloading: https://data.commoncrawl.org/crawl-data/CC-MAIN-2025-13/segments/1742004432822.9/wet/CC-MAIN-20250315031626-20250315061626-00412.warc.wet.gz\n",
      "Saved to: /media/blu-bridge004/Expansion/train/wet_files_200_500/CC-MAIN-20250315031626-20250315061626-00412.warc.wet.gz \n",
      "total time taken  : 5.809156179428101s\n",
      "[124/210] Downloading: https://data.commoncrawl.org/crawl-data/CC-MAIN-2025-13/segments/1742004432822.9/wet/CC-MAIN-20250315031626-20250315061626-00413.warc.wet.gz\n",
      "Saved to: /media/blu-bridge004/Expansion/train/wet_files_200_500/CC-MAIN-20250315031626-20250315061626-00413.warc.wet.gz \n",
      "total time taken  : 4.938427686691284s\n",
      "[125/210] Downloading: https://data.commoncrawl.org/crawl-data/CC-MAIN-2025-13/segments/1742004432822.9/wet/CC-MAIN-20250315031626-20250315061626-00414.warc.wet.gz\n",
      "Saved to: /media/blu-bridge004/Expansion/train/wet_files_200_500/CC-MAIN-20250315031626-20250315061626-00414.warc.wet.gz \n",
      "total time taken  : 5.017446756362915s\n",
      "[126/210] Downloading: https://data.commoncrawl.org/crawl-data/CC-MAIN-2025-13/segments/1742004432822.9/wet/CC-MAIN-20250315031626-20250315061626-00415.warc.wet.gz\n",
      "Saved to: /media/blu-bridge004/Expansion/train/wet_files_200_500/CC-MAIN-20250315031626-20250315061626-00415.warc.wet.gz \n",
      "total time taken  : 5.880445718765259s\n",
      "[127/210] Downloading: https://data.commoncrawl.org/crawl-data/CC-MAIN-2025-13/segments/1742004432822.9/wet/CC-MAIN-20250315031626-20250315061626-00416.warc.wet.gz\n",
      "Saved to: /media/blu-bridge004/Expansion/train/wet_files_200_500/CC-MAIN-20250315031626-20250315061626-00416.warc.wet.gz \n",
      "total time taken  : 5.283039569854736s\n",
      "[128/210] Downloading: https://data.commoncrawl.org/crawl-data/CC-MAIN-2025-13/segments/1742004432822.9/wet/CC-MAIN-20250315031626-20250315061626-00417.warc.wet.gz\n",
      "Saved to: /media/blu-bridge004/Expansion/train/wet_files_200_500/CC-MAIN-20250315031626-20250315061626-00417.warc.wet.gz \n",
      "total time taken  : 5.977370500564575s\n",
      "[129/210] Downloading: https://data.commoncrawl.org/crawl-data/CC-MAIN-2025-13/segments/1742004432822.9/wet/CC-MAIN-20250315031626-20250315061626-00418.warc.wet.gz\n",
      "Saved to: /media/blu-bridge004/Expansion/train/wet_files_200_500/CC-MAIN-20250315031626-20250315061626-00418.warc.wet.gz \n",
      "total time taken  : 5.495246648788452s\n",
      "[130/210] Downloading: https://data.commoncrawl.org/crawl-data/CC-MAIN-2025-13/segments/1742004432822.9/wet/CC-MAIN-20250315031626-20250315061626-00419.warc.wet.gz\n",
      "Saved to: /media/blu-bridge004/Expansion/train/wet_files_200_500/CC-MAIN-20250315031626-20250315061626-00419.warc.wet.gz \n",
      "total time taken  : 5.47617244720459s\n",
      "[131/210] Downloading: https://data.commoncrawl.org/crawl-data/CC-MAIN-2025-13/segments/1742004432822.9/wet/CC-MAIN-20250315031626-20250315061626-00420.warc.wet.gz\n",
      "Saved to: /media/blu-bridge004/Expansion/train/wet_files_200_500/CC-MAIN-20250315031626-20250315061626-00420.warc.wet.gz \n",
      "total time taken  : 5.11899733543396s\n",
      "[132/210] Downloading: https://data.commoncrawl.org/crawl-data/CC-MAIN-2025-13/segments/1742004432822.9/wet/CC-MAIN-20250315031626-20250315061626-00421.warc.wet.gz\n",
      "Saved to: /media/blu-bridge004/Expansion/train/wet_files_200_500/CC-MAIN-20250315031626-20250315061626-00421.warc.wet.gz \n",
      "total time taken  : 5.304870367050171s\n",
      "[133/210] Downloading: https://data.commoncrawl.org/crawl-data/CC-MAIN-2025-13/segments/1742004432822.9/wet/CC-MAIN-20250315031626-20250315061626-00422.warc.wet.gz\n",
      "Saved to: /media/blu-bridge004/Expansion/train/wet_files_200_500/CC-MAIN-20250315031626-20250315061626-00422.warc.wet.gz \n",
      "total time taken  : 5.972740888595581s\n",
      "[134/210] Downloading: https://data.commoncrawl.org/crawl-data/CC-MAIN-2025-13/segments/1742004432822.9/wet/CC-MAIN-20250315031626-20250315061626-00423.warc.wet.gz\n",
      "Saved to: /media/blu-bridge004/Expansion/train/wet_files_200_500/CC-MAIN-20250315031626-20250315061626-00423.warc.wet.gz \n",
      "total time taken  : 5.507822513580322s\n",
      "[135/210] Downloading: https://data.commoncrawl.org/crawl-data/CC-MAIN-2025-13/segments/1742004432822.9/wet/CC-MAIN-20250315031626-20250315061626-00424.warc.wet.gz\n",
      "Saved to: /media/blu-bridge004/Expansion/train/wet_files_200_500/CC-MAIN-20250315031626-20250315061626-00424.warc.wet.gz \n",
      "total time taken  : 5.419288635253906s\n",
      "[136/210] Downloading: https://data.commoncrawl.org/crawl-data/CC-MAIN-2025-13/segments/1742004432822.9/wet/CC-MAIN-20250315031626-20250315061626-00425.warc.wet.gz\n",
      "Saved to: /media/blu-bridge004/Expansion/train/wet_files_200_500/CC-MAIN-20250315031626-20250315061626-00425.warc.wet.gz \n",
      "total time taken  : 5.285481929779053s\n",
      "[137/210] Downloading: https://data.commoncrawl.org/crawl-data/CC-MAIN-2025-13/segments/1742004432822.9/wet/CC-MAIN-20250315031626-20250315061626-00426.warc.wet.gz\n",
      "Saved to: /media/blu-bridge004/Expansion/train/wet_files_200_500/CC-MAIN-20250315031626-20250315061626-00426.warc.wet.gz \n",
      "total time taken  : 5.816854953765869s\n",
      "[138/210] Downloading: https://data.commoncrawl.org/crawl-data/CC-MAIN-2025-13/segments/1742004432822.9/wet/CC-MAIN-20250315031626-20250315061626-00427.warc.wet.gz\n",
      "Saved to: /media/blu-bridge004/Expansion/train/wet_files_200_500/CC-MAIN-20250315031626-20250315061626-00427.warc.wet.gz \n",
      "total time taken  : 5.521914958953857s\n",
      "[139/210] Downloading: https://data.commoncrawl.org/crawl-data/CC-MAIN-2025-13/segments/1742004432822.9/wet/CC-MAIN-20250315031626-20250315061626-00428.warc.wet.gz\n",
      "Saved to: /media/blu-bridge004/Expansion/train/wet_files_200_500/CC-MAIN-20250315031626-20250315061626-00428.warc.wet.gz \n",
      "total time taken  : 5.1939520835876465s\n",
      "[140/210] Downloading: https://data.commoncrawl.org/crawl-data/CC-MAIN-2025-13/segments/1742004432822.9/wet/CC-MAIN-20250315031626-20250315061626-00429.warc.wet.gz\n",
      "Saved to: /media/blu-bridge004/Expansion/train/wet_files_200_500/CC-MAIN-20250315031626-20250315061626-00429.warc.wet.gz \n",
      "total time taken  : 5.225230693817139s\n",
      "[141/210] Downloading: https://data.commoncrawl.org/crawl-data/CC-MAIN-2025-13/segments/1742004432822.9/wet/CC-MAIN-20250315031626-20250315061626-00430.warc.wet.gz\n",
      "Saved to: /media/blu-bridge004/Expansion/train/wet_files_200_500/CC-MAIN-20250315031626-20250315061626-00430.warc.wet.gz \n",
      "total time taken  : 5.600803375244141s\n",
      "[142/210] Downloading: https://data.commoncrawl.org/crawl-data/CC-MAIN-2025-13/segments/1742004432822.9/wet/CC-MAIN-20250315031626-20250315061626-00431.warc.wet.gz\n",
      "Saved to: /media/blu-bridge004/Expansion/train/wet_files_200_500/CC-MAIN-20250315031626-20250315061626-00431.warc.wet.gz \n",
      "total time taken  : 5.4474687576293945s\n",
      "[143/210] Downloading: https://data.commoncrawl.org/crawl-data/CC-MAIN-2025-13/segments/1742004432822.9/wet/CC-MAIN-20250315031626-20250315061626-00432.warc.wet.gz\n",
      "Saved to: /media/blu-bridge004/Expansion/train/wet_files_200_500/CC-MAIN-20250315031626-20250315061626-00432.warc.wet.gz \n",
      "total time taken  : 5.504623889923096s\n",
      "[144/210] Downloading: https://data.commoncrawl.org/crawl-data/CC-MAIN-2025-13/segments/1742004432822.9/wet/CC-MAIN-20250315031626-20250315061626-00433.warc.wet.gz\n",
      "Saved to: /media/blu-bridge004/Expansion/train/wet_files_200_500/CC-MAIN-20250315031626-20250315061626-00433.warc.wet.gz \n",
      "total time taken  : 5.413698196411133s\n",
      "[145/210] Downloading: https://data.commoncrawl.org/crawl-data/CC-MAIN-2025-13/segments/1742004432822.9/wet/CC-MAIN-20250315031626-20250315061626-00434.warc.wet.gz\n",
      "Saved to: /media/blu-bridge004/Expansion/train/wet_files_200_500/CC-MAIN-20250315031626-20250315061626-00434.warc.wet.gz \n",
      "total time taken  : 5.623817443847656s\n",
      "[146/210] Downloading: https://data.commoncrawl.org/crawl-data/CC-MAIN-2025-13/segments/1742004432822.9/wet/CC-MAIN-20250315031626-20250315061626-00435.warc.wet.gz\n",
      "Saved to: /media/blu-bridge004/Expansion/train/wet_files_200_500/CC-MAIN-20250315031626-20250315061626-00435.warc.wet.gz \n",
      "total time taken  : 5.135033130645752s\n",
      "[147/210] Downloading: https://data.commoncrawl.org/crawl-data/CC-MAIN-2025-13/segments/1742004432822.9/wet/CC-MAIN-20250315031626-20250315061626-00436.warc.wet.gz\n",
      "Saved to: /media/blu-bridge004/Expansion/train/wet_files_200_500/CC-MAIN-20250315031626-20250315061626-00436.warc.wet.gz \n",
      "total time taken  : 7.12554407119751s\n",
      "[148/210] Downloading: https://data.commoncrawl.org/crawl-data/CC-MAIN-2025-13/segments/1742004432822.9/wet/CC-MAIN-20250315031626-20250315061626-00437.warc.wet.gz\n",
      "Saved to: /media/blu-bridge004/Expansion/train/wet_files_200_500/CC-MAIN-20250315031626-20250315061626-00437.warc.wet.gz \n",
      "total time taken  : 6.894091606140137s\n",
      "[149/210] Downloading: https://data.commoncrawl.org/crawl-data/CC-MAIN-2025-13/segments/1742004432822.9/wet/CC-MAIN-20250315031626-20250315061626-00438.warc.wet.gz\n",
      "Saved to: /media/blu-bridge004/Expansion/train/wet_files_200_500/CC-MAIN-20250315031626-20250315061626-00438.warc.wet.gz \n",
      "total time taken  : 6.987746000289917s\n",
      "[150/210] Downloading: https://data.commoncrawl.org/crawl-data/CC-MAIN-2025-13/segments/1742004432822.9/wet/CC-MAIN-20250315031626-20250315061626-00439.warc.wet.gz\n",
      "Saved to: /media/blu-bridge004/Expansion/train/wet_files_200_500/CC-MAIN-20250315031626-20250315061626-00439.warc.wet.gz \n",
      "total time taken  : 6.808689832687378s\n",
      "[151/210] Downloading: https://data.commoncrawl.org/crawl-data/CC-MAIN-2025-13/segments/1742004432822.9/wet/CC-MAIN-20250315031626-20250315061626-00440.warc.wet.gz\n",
      "Saved to: /media/blu-bridge004/Expansion/train/wet_files_200_500/CC-MAIN-20250315031626-20250315061626-00440.warc.wet.gz \n",
      "total time taken  : 7.01585054397583s\n",
      "[152/210] Downloading: https://data.commoncrawl.org/crawl-data/CC-MAIN-2025-13/segments/1742004432822.9/wet/CC-MAIN-20250315031626-20250315061626-00441.warc.wet.gz\n",
      "Saved to: /media/blu-bridge004/Expansion/train/wet_files_200_500/CC-MAIN-20250315031626-20250315061626-00441.warc.wet.gz \n",
      "total time taken  : 6.552049875259399s\n",
      "[153/210] Downloading: https://data.commoncrawl.org/crawl-data/CC-MAIN-2025-13/segments/1742004432822.9/wet/CC-MAIN-20250315031626-20250315061626-00442.warc.wet.gz\n",
      "Saved to: /media/blu-bridge004/Expansion/train/wet_files_200_500/CC-MAIN-20250315031626-20250315061626-00442.warc.wet.gz \n",
      "total time taken  : 7.069951057434082s\n",
      "[154/210] Downloading: https://data.commoncrawl.org/crawl-data/CC-MAIN-2025-13/segments/1742004432822.9/wet/CC-MAIN-20250315031626-20250315061626-00443.warc.wet.gz\n",
      "Saved to: /media/blu-bridge004/Expansion/train/wet_files_200_500/CC-MAIN-20250315031626-20250315061626-00443.warc.wet.gz \n",
      "total time taken  : 6.795273065567017s\n",
      "[155/210] Downloading: https://data.commoncrawl.org/crawl-data/CC-MAIN-2025-13/segments/1742004432822.9/wet/CC-MAIN-20250315031626-20250315061626-00444.warc.wet.gz\n",
      "Saved to: /media/blu-bridge004/Expansion/train/wet_files_200_500/CC-MAIN-20250315031626-20250315061626-00444.warc.wet.gz \n",
      "total time taken  : 6.695233583450317s\n",
      "[156/210] Downloading: https://data.commoncrawl.org/crawl-data/CC-MAIN-2025-13/segments/1742004432822.9/wet/CC-MAIN-20250315031626-20250315061626-00445.warc.wet.gz\n",
      "Saved to: /media/blu-bridge004/Expansion/train/wet_files_200_500/CC-MAIN-20250315031626-20250315061626-00445.warc.wet.gz \n",
      "total time taken  : 6.579113483428955s\n",
      "[157/210] Downloading: https://data.commoncrawl.org/crawl-data/CC-MAIN-2025-13/segments/1742004432822.9/wet/CC-MAIN-20250315031626-20250315061626-00446.warc.wet.gz\n",
      "Saved to: /media/blu-bridge004/Expansion/train/wet_files_200_500/CC-MAIN-20250315031626-20250315061626-00446.warc.wet.gz \n",
      "total time taken  : 6.803132057189941s\n",
      "[158/210] Downloading: https://data.commoncrawl.org/crawl-data/CC-MAIN-2025-13/segments/1742004432822.9/wet/CC-MAIN-20250315031626-20250315061626-00447.warc.wet.gz\n",
      "Saved to: /media/blu-bridge004/Expansion/train/wet_files_200_500/CC-MAIN-20250315031626-20250315061626-00447.warc.wet.gz \n",
      "total time taken  : 6.712506294250488s\n",
      "[159/210] Downloading: https://data.commoncrawl.org/crawl-data/CC-MAIN-2025-13/segments/1742004432822.9/wet/CC-MAIN-20250315031626-20250315061626-00448.warc.wet.gz\n",
      "Saved to: /media/blu-bridge004/Expansion/train/wet_files_200_500/CC-MAIN-20250315031626-20250315061626-00448.warc.wet.gz \n",
      "total time taken  : 6.807343006134033s\n",
      "[160/210] Downloading: https://data.commoncrawl.org/crawl-data/CC-MAIN-2025-13/segments/1742004432822.9/wet/CC-MAIN-20250315031626-20250315061626-00449.warc.wet.gz\n",
      "Saved to: /media/blu-bridge004/Expansion/train/wet_files_200_500/CC-MAIN-20250315031626-20250315061626-00449.warc.wet.gz \n",
      "total time taken  : 6.127815008163452s\n",
      "[161/210] Downloading: https://data.commoncrawl.org/crawl-data/CC-MAIN-2025-13/segments/1742004432822.9/wet/CC-MAIN-20250315031626-20250315061626-00450.warc.wet.gz\n",
      "Saved to: /media/blu-bridge004/Expansion/train/wet_files_200_500/CC-MAIN-20250315031626-20250315061626-00450.warc.wet.gz \n",
      "total time taken  : 6.970704793930054s\n",
      "[162/210] Downloading: https://data.commoncrawl.org/crawl-data/CC-MAIN-2025-13/segments/1742004432822.9/wet/CC-MAIN-20250315031626-20250315061626-00451.warc.wet.gz\n",
      "Saved to: /media/blu-bridge004/Expansion/train/wet_files_200_500/CC-MAIN-20250315031626-20250315061626-00451.warc.wet.gz \n",
      "total time taken  : 6.410966634750366s\n",
      "[163/210] Downloading: https://data.commoncrawl.org/crawl-data/CC-MAIN-2025-13/segments/1742004432822.9/wet/CC-MAIN-20250315031626-20250315061626-00452.warc.wet.gz\n",
      "Saved to: /media/blu-bridge004/Expansion/train/wet_files_200_500/CC-MAIN-20250315031626-20250315061626-00452.warc.wet.gz \n",
      "total time taken  : 6.657719373703003s\n",
      "[164/210] Downloading: https://data.commoncrawl.org/crawl-data/CC-MAIN-2025-13/segments/1742004432822.9/wet/CC-MAIN-20250315031626-20250315061626-00453.warc.wet.gz\n",
      "Saved to: /media/blu-bridge004/Expansion/train/wet_files_200_500/CC-MAIN-20250315031626-20250315061626-00453.warc.wet.gz \n",
      "total time taken  : 6.298731565475464s\n",
      "[165/210] Downloading: https://data.commoncrawl.org/crawl-data/CC-MAIN-2025-13/segments/1742004432822.9/wet/CC-MAIN-20250315031626-20250315061626-00454.warc.wet.gz\n",
      "Saved to: /media/blu-bridge004/Expansion/train/wet_files_200_500/CC-MAIN-20250315031626-20250315061626-00454.warc.wet.gz \n",
      "total time taken  : 5.336287498474121s\n",
      "[166/210] Downloading: https://data.commoncrawl.org/crawl-data/CC-MAIN-2025-13/segments/1742004432822.9/wet/CC-MAIN-20250315031626-20250315061626-00455.warc.wet.gz\n",
      "Saved to: /media/blu-bridge004/Expansion/train/wet_files_200_500/CC-MAIN-20250315031626-20250315061626-00455.warc.wet.gz \n",
      "total time taken  : 5.187490224838257s\n",
      "[167/210] Downloading: https://data.commoncrawl.org/crawl-data/CC-MAIN-2025-13/segments/1742004432822.9/wet/CC-MAIN-20250315031626-20250315061626-00456.warc.wet.gz\n",
      "Saved to: /media/blu-bridge004/Expansion/train/wet_files_200_500/CC-MAIN-20250315031626-20250315061626-00456.warc.wet.gz \n",
      "total time taken  : 5.104869365692139s\n",
      "[168/210] Downloading: https://data.commoncrawl.org/crawl-data/CC-MAIN-2025-13/segments/1742004432822.9/wet/CC-MAIN-20250315031626-20250315061626-00457.warc.wet.gz\n",
      "Saved to: /media/blu-bridge004/Expansion/train/wet_files_200_500/CC-MAIN-20250315031626-20250315061626-00457.warc.wet.gz \n",
      "total time taken  : 5.266329526901245s\n",
      "[169/210] Downloading: https://data.commoncrawl.org/crawl-data/CC-MAIN-2025-13/segments/1742004432822.9/wet/CC-MAIN-20250315031626-20250315061626-00458.warc.wet.gz\n",
      "Saved to: /media/blu-bridge004/Expansion/train/wet_files_200_500/CC-MAIN-20250315031626-20250315061626-00458.warc.wet.gz \n",
      "total time taken  : 5.030288219451904s\n",
      "[170/210] Downloading: https://data.commoncrawl.org/crawl-data/CC-MAIN-2025-13/segments/1742004432822.9/wet/CC-MAIN-20250315031626-20250315061626-00459.warc.wet.gz\n",
      "Saved to: /media/blu-bridge004/Expansion/train/wet_files_200_500/CC-MAIN-20250315031626-20250315061626-00459.warc.wet.gz \n",
      "total time taken  : 5.107981443405151s\n",
      "[171/210] Downloading: https://data.commoncrawl.org/crawl-data/CC-MAIN-2025-13/segments/1742004432822.9/wet/CC-MAIN-20250315031626-20250315061626-00460.warc.wet.gz\n",
      "Saved to: /media/blu-bridge004/Expansion/train/wet_files_200_500/CC-MAIN-20250315031626-20250315061626-00460.warc.wet.gz \n",
      "total time taken  : 5.40657639503479s\n",
      "[172/210] Downloading: https://data.commoncrawl.org/crawl-data/CC-MAIN-2025-13/segments/1742004432822.9/wet/CC-MAIN-20250315031626-20250315061626-00461.warc.wet.gz\n",
      "Saved to: /media/blu-bridge004/Expansion/train/wet_files_200_500/CC-MAIN-20250315031626-20250315061626-00461.warc.wet.gz \n",
      "total time taken  : 4.844939947128296s\n",
      "[173/210] Downloading: https://data.commoncrawl.org/crawl-data/CC-MAIN-2025-13/segments/1742004432822.9/wet/CC-MAIN-20250315031626-20250315061626-00462.warc.wet.gz\n",
      "Saved to: /media/blu-bridge004/Expansion/train/wet_files_200_500/CC-MAIN-20250315031626-20250315061626-00462.warc.wet.gz \n",
      "total time taken  : 5.432387351989746s\n",
      "[174/210] Downloading: https://data.commoncrawl.org/crawl-data/CC-MAIN-2025-13/segments/1742004432822.9/wet/CC-MAIN-20250315031626-20250315061626-00463.warc.wet.gz\n",
      "Saved to: /media/blu-bridge004/Expansion/train/wet_files_200_500/CC-MAIN-20250315031626-20250315061626-00463.warc.wet.gz \n",
      "total time taken  : 4.925812005996704s\n",
      "[175/210] Downloading: https://data.commoncrawl.org/crawl-data/CC-MAIN-2025-13/segments/1742004432822.9/wet/CC-MAIN-20250315031626-20250315061626-00464.warc.wet.gz\n",
      "Saved to: /media/blu-bridge004/Expansion/train/wet_files_200_500/CC-MAIN-20250315031626-20250315061626-00464.warc.wet.gz \n",
      "total time taken  : 5.547665357589722s\n",
      "[176/210] Downloading: https://data.commoncrawl.org/crawl-data/CC-MAIN-2025-13/segments/1742004432822.9/wet/CC-MAIN-20250315031626-20250315061626-00465.warc.wet.gz\n",
      "Saved to: /media/blu-bridge004/Expansion/train/wet_files_200_500/CC-MAIN-20250315031626-20250315061626-00465.warc.wet.gz \n",
      "total time taken  : 5.475664854049683s\n",
      "[177/210] Downloading: https://data.commoncrawl.org/crawl-data/CC-MAIN-2025-13/segments/1742004432822.9/wet/CC-MAIN-20250315031626-20250315061626-00466.warc.wet.gz\n",
      "Saved to: /media/blu-bridge004/Expansion/train/wet_files_200_500/CC-MAIN-20250315031626-20250315061626-00466.warc.wet.gz \n",
      "total time taken  : 13.886686086654663s\n",
      "[178/210] Downloading: https://data.commoncrawl.org/crawl-data/CC-MAIN-2025-13/segments/1742004432822.9/wet/CC-MAIN-20250315031626-20250315061626-00467.warc.wet.gz\n",
      "Saved to: /media/blu-bridge004/Expansion/train/wet_files_200_500/CC-MAIN-20250315031626-20250315061626-00467.warc.wet.gz \n",
      "total time taken  : 15.259597539901733s\n",
      "[179/210] Downloading: https://data.commoncrawl.org/crawl-data/CC-MAIN-2025-13/segments/1742004432822.9/wet/CC-MAIN-20250315031626-20250315061626-00468.warc.wet.gz\n",
      "Saved to: /media/blu-bridge004/Expansion/train/wet_files_200_500/CC-MAIN-20250315031626-20250315061626-00468.warc.wet.gz \n",
      "total time taken  : 5.745743989944458s\n",
      "[180/210] Downloading: https://data.commoncrawl.org/crawl-data/CC-MAIN-2025-13/segments/1742004432822.9/wet/CC-MAIN-20250315031626-20250315061626-00469.warc.wet.gz\n",
      "Saved to: /media/blu-bridge004/Expansion/train/wet_files_200_500/CC-MAIN-20250315031626-20250315061626-00469.warc.wet.gz \n",
      "total time taken  : 5.915412187576294s\n",
      "[181/210] Downloading: https://data.commoncrawl.org/crawl-data/CC-MAIN-2025-13/segments/1742004432822.9/wet/CC-MAIN-20250315031626-20250315061626-00470.warc.wet.gz\n",
      "Saved to: /media/blu-bridge004/Expansion/train/wet_files_200_500/CC-MAIN-20250315031626-20250315061626-00470.warc.wet.gz \n",
      "total time taken  : 6.16515588760376s\n",
      "[182/210] Downloading: https://data.commoncrawl.org/crawl-data/CC-MAIN-2025-13/segments/1742004432822.9/wet/CC-MAIN-20250315031626-20250315061626-00471.warc.wet.gz\n",
      "Saved to: /media/blu-bridge004/Expansion/train/wet_files_200_500/CC-MAIN-20250315031626-20250315061626-00471.warc.wet.gz \n",
      "total time taken  : 6.249223232269287s\n",
      "[183/210] Downloading: https://data.commoncrawl.org/crawl-data/CC-MAIN-2025-13/segments/1742004432822.9/wet/CC-MAIN-20250315031626-20250315061626-00472.warc.wet.gz\n",
      "Saved to: /media/blu-bridge004/Expansion/train/wet_files_200_500/CC-MAIN-20250315031626-20250315061626-00472.warc.wet.gz \n",
      "total time taken  : 5.9007275104522705s\n",
      "[184/210] Downloading: https://data.commoncrawl.org/crawl-data/CC-MAIN-2025-13/segments/1742004432822.9/wet/CC-MAIN-20250315031626-20250315061626-00473.warc.wet.gz\n",
      "Saved to: /media/blu-bridge004/Expansion/train/wet_files_200_500/CC-MAIN-20250315031626-20250315061626-00473.warc.wet.gz \n",
      "total time taken  : 5.649209976196289s\n",
      "[185/210] Downloading: https://data.commoncrawl.org/crawl-data/CC-MAIN-2025-13/segments/1742004432822.9/wet/CC-MAIN-20250315031626-20250315061626-00474.warc.wet.gz\n",
      "Saved to: /media/blu-bridge004/Expansion/train/wet_files_200_500/CC-MAIN-20250315031626-20250315061626-00474.warc.wet.gz \n",
      "total time taken  : 6.572610378265381s\n",
      "[186/210] Downloading: https://data.commoncrawl.org/crawl-data/CC-MAIN-2025-13/segments/1742004432822.9/wet/CC-MAIN-20250315031626-20250315061626-00475.warc.wet.gz\n",
      "Saved to: /media/blu-bridge004/Expansion/train/wet_files_200_500/CC-MAIN-20250315031626-20250315061626-00475.warc.wet.gz \n",
      "total time taken  : 7.302359342575073s\n",
      "[187/210] Downloading: https://data.commoncrawl.org/crawl-data/CC-MAIN-2025-13/segments/1742004432822.9/wet/CC-MAIN-20250315031626-20250315061626-00476.warc.wet.gz\n",
      "Saved to: /media/blu-bridge004/Expansion/train/wet_files_200_500/CC-MAIN-20250315031626-20250315061626-00476.warc.wet.gz \n",
      "total time taken  : 6.446801424026489s\n",
      "[188/210] Downloading: https://data.commoncrawl.org/crawl-data/CC-MAIN-2025-13/segments/1742004432822.9/wet/CC-MAIN-20250315031626-20250315061626-00477.warc.wet.gz\n",
      "Saved to: /media/blu-bridge004/Expansion/train/wet_files_200_500/CC-MAIN-20250315031626-20250315061626-00477.warc.wet.gz \n",
      "total time taken  : 7.276395559310913s\n",
      "[189/210] Downloading: https://data.commoncrawl.org/crawl-data/CC-MAIN-2025-13/segments/1742004432822.9/wet/CC-MAIN-20250315031626-20250315061626-00478.warc.wet.gz\n",
      "Saved to: /media/blu-bridge004/Expansion/train/wet_files_200_500/CC-MAIN-20250315031626-20250315061626-00478.warc.wet.gz \n",
      "total time taken  : 6.871701717376709s\n",
      "[190/210] Downloading: https://data.commoncrawl.org/crawl-data/CC-MAIN-2025-13/segments/1742004432822.9/wet/CC-MAIN-20250315031626-20250315061626-00479.warc.wet.gz\n",
      "Saved to: /media/blu-bridge004/Expansion/train/wet_files_200_500/CC-MAIN-20250315031626-20250315061626-00479.warc.wet.gz \n",
      "total time taken  : 6.493541240692139s\n",
      "[191/210] Downloading: https://data.commoncrawl.org/crawl-data/CC-MAIN-2025-13/segments/1742004432822.9/wet/CC-MAIN-20250315031626-20250315061626-00480.warc.wet.gz\n",
      "Saved to: /media/blu-bridge004/Expansion/train/wet_files_200_500/CC-MAIN-20250315031626-20250315061626-00480.warc.wet.gz \n",
      "total time taken  : 7.158528089523315s\n",
      "[192/210] Downloading: https://data.commoncrawl.org/crawl-data/CC-MAIN-2025-13/segments/1742004432822.9/wet/CC-MAIN-20250315031626-20250315061626-00481.warc.wet.gz\n",
      "Saved to: /media/blu-bridge004/Expansion/train/wet_files_200_500/CC-MAIN-20250315031626-20250315061626-00481.warc.wet.gz \n",
      "total time taken  : 6.996395111083984s\n",
      "[193/210] Downloading: https://data.commoncrawl.org/crawl-data/CC-MAIN-2025-13/segments/1742004432822.9/wet/CC-MAIN-20250315031626-20250315061626-00482.warc.wet.gz\n",
      "Saved to: /media/blu-bridge004/Expansion/train/wet_files_200_500/CC-MAIN-20250315031626-20250315061626-00482.warc.wet.gz \n",
      "total time taken  : 7.285233974456787s\n",
      "[194/210] Downloading: https://data.commoncrawl.org/crawl-data/CC-MAIN-2025-13/segments/1742004432822.9/wet/CC-MAIN-20250315031626-20250315061626-00483.warc.wet.gz\n",
      "Saved to: /media/blu-bridge004/Expansion/train/wet_files_200_500/CC-MAIN-20250315031626-20250315061626-00483.warc.wet.gz \n",
      "total time taken  : 5.540200233459473s\n",
      "[195/210] Downloading: https://data.commoncrawl.org/crawl-data/CC-MAIN-2025-13/segments/1742004432822.9/wet/CC-MAIN-20250315031626-20250315061626-00484.warc.wet.gz\n",
      "Saved to: /media/blu-bridge004/Expansion/train/wet_files_200_500/CC-MAIN-20250315031626-20250315061626-00484.warc.wet.gz \n",
      "total time taken  : 5.593631982803345s\n",
      "[196/210] Downloading: https://data.commoncrawl.org/crawl-data/CC-MAIN-2025-13/segments/1742004432822.9/wet/CC-MAIN-20250315031626-20250315061626-00485.warc.wet.gz\n",
      "Saved to: /media/blu-bridge004/Expansion/train/wet_files_200_500/CC-MAIN-20250315031626-20250315061626-00485.warc.wet.gz \n",
      "total time taken  : 5.513116359710693s\n",
      "[197/210] Downloading: https://data.commoncrawl.org/crawl-data/CC-MAIN-2025-13/segments/1742004432822.9/wet/CC-MAIN-20250315031626-20250315061626-00486.warc.wet.gz\n",
      "Saved to: /media/blu-bridge004/Expansion/train/wet_files_200_500/CC-MAIN-20250315031626-20250315061626-00486.warc.wet.gz \n",
      "total time taken  : 5.744198799133301s\n",
      "[198/210] Downloading: https://data.commoncrawl.org/crawl-data/CC-MAIN-2025-13/segments/1742004432822.9/wet/CC-MAIN-20250315031626-20250315061626-00487.warc.wet.gz\n",
      "Saved to: /media/blu-bridge004/Expansion/train/wet_files_200_500/CC-MAIN-20250315031626-20250315061626-00487.warc.wet.gz \n",
      "total time taken  : 5.6231348514556885s\n",
      "[199/210] Downloading: https://data.commoncrawl.org/crawl-data/CC-MAIN-2025-13/segments/1742004432822.9/wet/CC-MAIN-20250315031626-20250315061626-00488.warc.wet.gz\n",
      "Saved to: /media/blu-bridge004/Expansion/train/wet_files_200_500/CC-MAIN-20250315031626-20250315061626-00488.warc.wet.gz \n",
      "total time taken  : 5.19210147857666s\n",
      "[200/210] Downloading: https://data.commoncrawl.org/crawl-data/CC-MAIN-2025-13/segments/1742004432822.9/wet/CC-MAIN-20250315031626-20250315061626-00489.warc.wet.gz\n",
      "Saved to: /media/blu-bridge004/Expansion/train/wet_files_200_500/CC-MAIN-20250315031626-20250315061626-00489.warc.wet.gz \n",
      "total time taken  : 5.517995834350586s\n",
      "[201/210] Downloading: https://data.commoncrawl.org/crawl-data/CC-MAIN-2025-13/segments/1742004432822.9/wet/CC-MAIN-20250315031626-20250315061626-00490.warc.wet.gz\n",
      "Saved to: /media/blu-bridge004/Expansion/train/wet_files_200_500/CC-MAIN-20250315031626-20250315061626-00490.warc.wet.gz \n",
      "total time taken  : 5.654297828674316s\n",
      "[202/210] Downloading: https://data.commoncrawl.org/crawl-data/CC-MAIN-2025-13/segments/1742004432822.9/wet/CC-MAIN-20250315031626-20250315061626-00491.warc.wet.gz\n",
      "Saved to: /media/blu-bridge004/Expansion/train/wet_files_200_500/CC-MAIN-20250315031626-20250315061626-00491.warc.wet.gz \n",
      "total time taken  : 5.532358884811401s\n",
      "[203/210] Downloading: https://data.commoncrawl.org/crawl-data/CC-MAIN-2025-13/segments/1742004432822.9/wet/CC-MAIN-20250315031626-20250315061626-00492.warc.wet.gz\n",
      "Saved to: /media/blu-bridge004/Expansion/train/wet_files_200_500/CC-MAIN-20250315031626-20250315061626-00492.warc.wet.gz \n",
      "total time taken  : 5.594954967498779s\n",
      "[204/210] Downloading: https://data.commoncrawl.org/crawl-data/CC-MAIN-2025-13/segments/1742004432822.9/wet/CC-MAIN-20250315031626-20250315061626-00493.warc.wet.gz\n",
      "Saved to: /media/blu-bridge004/Expansion/train/wet_files_200_500/CC-MAIN-20250315031626-20250315061626-00493.warc.wet.gz \n",
      "total time taken  : 5.732192754745483s\n",
      "[205/210] Downloading: https://data.commoncrawl.org/crawl-data/CC-MAIN-2025-13/segments/1742004432822.9/wet/CC-MAIN-20250315031626-20250315061626-00494.warc.wet.gz\n",
      "Saved to: /media/blu-bridge004/Expansion/train/wet_files_200_500/CC-MAIN-20250315031626-20250315061626-00494.warc.wet.gz \n",
      "total time taken  : 5.290119647979736s\n",
      "[206/210] Downloading: https://data.commoncrawl.org/crawl-data/CC-MAIN-2025-13/segments/1742004432822.9/wet/CC-MAIN-20250315031626-20250315061626-00495.warc.wet.gz\n",
      "Saved to: /media/blu-bridge004/Expansion/train/wet_files_200_500/CC-MAIN-20250315031626-20250315061626-00495.warc.wet.gz \n",
      "total time taken  : 5.096705675125122s\n",
      "[207/210] Downloading: https://data.commoncrawl.org/crawl-data/CC-MAIN-2025-13/segments/1742004432822.9/wet/CC-MAIN-20250315031626-20250315061626-00496.warc.wet.gz\n",
      "Saved to: /media/blu-bridge004/Expansion/train/wet_files_200_500/CC-MAIN-20250315031626-20250315061626-00496.warc.wet.gz \n",
      "total time taken  : 5.114487409591675s\n",
      "[208/210] Downloading: https://data.commoncrawl.org/crawl-data/CC-MAIN-2025-13/segments/1742004432822.9/wet/CC-MAIN-20250315031626-20250315061626-00497.warc.wet.gz\n",
      "Saved to: /media/blu-bridge004/Expansion/train/wet_files_200_500/CC-MAIN-20250315031626-20250315061626-00497.warc.wet.gz \n",
      "total time taken  : 5.394963264465332s\n",
      "[209/210] Downloading: https://data.commoncrawl.org/crawl-data/CC-MAIN-2025-13/segments/1742004432822.9/wet/CC-MAIN-20250315031626-20250315061626-00498.warc.wet.gz\n",
      "Saved to: /media/blu-bridge004/Expansion/train/wet_files_200_500/CC-MAIN-20250315031626-20250315061626-00498.warc.wet.gz \n",
      "total time taken  : 5.6547863483428955s\n",
      "[210/210] Downloading: https://data.commoncrawl.org/crawl-data/CC-MAIN-2025-13/segments/1742004432822.9/wet/CC-MAIN-20250315031626-20250315061626-00499.warc.wet.gz\n",
      "Saved to: /media/blu-bridge004/Expansion/train/wet_files_200_500/CC-MAIN-20250315031626-20250315061626-00499.warc.wet.gz \n",
      "total time taken  : 5.569616317749023s\n"
     ]
    }
   ],
   "source": [
    "import os\n",
    "import requests\n",
    "import time\n",
    "\n",
    "# How many WET files to download (change as needed)\n",
    "NUM_FILES =210\n",
    "\n",
    "# Path to your local wet.paths file\n",
    "paths_file = \"/home/blu-bridge004/Desktop/pytorch/wet.paths(3)\"\n",
    "\n",
    "# Folder to save the WET files\n",
    "output_dir = '/media/blu-bridge004/Expansion/train/wet_files_200_500'\n",
    "os.makedirs(output_dir, exist_ok=True)\n",
    "\n",
    "# Read first N paths from wet.paths\n",
    "with open(paths_file, 'r') as f:\n",
    "    lines = [line.strip() for line in f.readlines()[290:500]]\n",
    "\n",
    "# Download each WET file\n",
    "base_url = \"https://data.commoncrawl.org/\"\n",
    "\n",
    "for i, path in enumerate(lines):\n",
    "    a=time.time()\n",
    "    url = base_url + path\n",
    "    filename = os.path.join(output_dir, os.path.basename(path))\n",
    "\n",
    "    print(f\"[{i+1}/{NUM_FILES}] Downloading: {url}\")\n",
    "    response = requests.get(url, stream=True)\n",
    "\n",
    "    if response.status_code == 200:\n",
    "        with open(filename, 'wb') as f:\n",
    "            for chunk in response.iter_content(chunk_size=8192):\n",
    "                f.write(chunk)\n",
    "        print(f\"Saved to: {filename} \")\n",
    "        b = time.time()\n",
    "        print(f\"total time taken  : {b-a}s\")\n",
    "    else:\n",
    "        print(f\"Failed to download {url}, status code {response.status_code}\")"
   ]
  },
  {
   "cell_type": "code",
   "execution_count": null,
   "id": "8de4d70b",
   "metadata": {},
   "outputs": [],
   "source": []
  }
 ],
 "metadata": {
  "kernelspec": {
   "display_name": "Python 3",
   "language": "python",
   "name": "python3"
  },
  "language_info": {
   "codemirror_mode": {
    "name": "ipython",
    "version": 3
   },
   "file_extension": ".py",
   "mimetype": "text/x-python",
   "name": "python",
   "nbconvert_exporter": "python",
   "pygments_lexer": "ipython3",
   "version": "3.10.12"
  }
 },
 "nbformat": 4,
 "nbformat_minor": 5
}
